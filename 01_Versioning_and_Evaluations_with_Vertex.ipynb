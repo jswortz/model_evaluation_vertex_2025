{
  "cells": [
    {
      "cell_type": "markdown",
      "id": "fJcPlEsZx6gaFTRxUsPw7l6t",
      "metadata": {
        "id": "fJcPlEsZx6gaFTRxUsPw7l6t"
      },
      "source": [
        "# Listing Versions of Models on Vertex AI\n",
        "\n",
        "To list the versions of a model using aiplatform.Model.list(), you can access the versioning_registry property of each Model object returned by the list method, and then call the list_versions() method on the versioning_registry object.\n",
        "\n",
        "Here's a breakdown of how to do this, along with how to find the model_id and run evaluations for specific versions:\n",
        "\n",
        "## 1. List Model Versions\n",
        "\n",
        "The versioning_registry property is an instance of ModelRegistry.\n",
        "You can call list_versions() on this property to retrieve a list of model versions.\n",
        "Each version is a Model object, so it will have its own metadata."
      ]
    },
    {
      "cell_type": "code",
      "execution_count": null,
      "id": "3RUJtXPvYZR2",
      "metadata": {
        "id": "3RUJtXPvYZR2"
      },
      "outputs": [],
      "source": [
        "PROJECT_ID = \"wortz-project-352116\"\n",
        "REGION = \"us-central1\""
      ]
    },
    {
      "cell_type": "code",
      "execution_count": null,
      "id": "OvAG6n2BctNg",
      "metadata": {
        "id": "OvAG6n2BctNg"
      },
      "outputs": [],
      "source": [
        "# create an evaluation bucket\n",
        "EVAL_BUCKET = \"gs://tutorial-eval-bucket\"\n",
        "\n",
        "# ! gsutil mb -l $REGION $EVAL_BUCKET"
      ]
    },
    {
      "cell_type": "code",
      "execution_count": null,
      "id": "APMN5p-WYS0m",
      "metadata": {
        "colab": {
          "base_uri": "https://localhost:8080/"
        },
        "id": "APMN5p-WYS0m",
        "outputId": "cf4d600d-be84-49d1-cc7e-f1250e771e77"
      },
      "outputs": [
        {
          "name": "stderr",
          "output_type": "stream",
          "text": [
            "INFO:google.cloud.aiplatform.models:Getting versions for projects/679926387543/locations/us-central1/models/659756454688849920\n"
          ]
        },
        {
          "name": "stdout",
          "output_type": "stream",
          "text": [
            "Model: pandas test REGRESSION\n"
          ]
        },
        {
          "name": "stderr",
          "output_type": "stream",
          "text": [
            "INFO:google.cloud.aiplatform.models:Getting versions for projects/679926387543/locations/us-central1/models/6825184344559058944\n"
          ]
        },
        {
          "name": "stdout",
          "output_type": "stream",
          "text": [
            "  Version: 1\n",
            "Create Time: 2025-03-14 20:23:30.494782+00:00\n",
            "  Version: 2\n",
            "Create Time: 2025-03-14 21:40:23.403059+00:00\n",
            "  Version: 3\n",
            "Create Time: 2025-03-16 19:00:19.848141+00:00\n",
            "  Version: 4\n",
            "Create Time: 2025-03-16 19:02:11.263796+00:00\n",
            "Model: pandas test REGRESSION\n"
          ]
        },
        {
          "name": "stderr",
          "output_type": "stream",
          "text": [
            "INFO:google.cloud.aiplatform.models:Getting versions for projects/679926387543/locations/us-central1/models/904560519589920768\n"
          ]
        },
        {
          "name": "stdout",
          "output_type": "stream",
          "text": [
            "  Version: 1\n",
            "Create Time: 2025-03-14 19:17:07.606267+00:00\n",
            "Model: Scikit-Learn Test\n"
          ]
        },
        {
          "name": "stderr",
          "output_type": "stream",
          "text": [
            "INFO:google.cloud.aiplatform.models:Getting versions for projects/679926387543/locations/us-central1/models/8352845800191033344\n"
          ]
        },
        {
          "name": "stdout",
          "output_type": "stream",
          "text": [
            "  Version: 1\n",
            "Create Time: 2024-11-13 19:02:38.044276+00:00\n",
            "Model: pandas test PASSTHRU\n"
          ]
        },
        {
          "name": "stderr",
          "output_type": "stream",
          "text": [
            "INFO:google.cloud.aiplatform.models:Getting versions for projects/679926387543/locations/us-central1/models/7869271790202126336\n"
          ]
        },
        {
          "name": "stdout",
          "output_type": "stream",
          "text": [
            "  Version: 1\n",
            "Create Time: 2024-10-22 14:58:02.769197+00:00\n",
            "Model: pandas test PASSTHRU2\n"
          ]
        },
        {
          "name": "stderr",
          "output_type": "stream",
          "text": [
            "INFO:google.cloud.aiplatform.models:Getting versions for projects/679926387543/locations/us-central1/models/6649922191091564544\n"
          ]
        },
        {
          "name": "stdout",
          "output_type": "stream",
          "text": [
            "  Version: 1\n",
            "Create Time: 2024-10-22 02:12:11.162340+00:00\n",
            "Model: pandas test PASSTHRU2\n"
          ]
        },
        {
          "name": "stderr",
          "output_type": "stream",
          "text": [
            "INFO:google.cloud.aiplatform.models:Getting versions for projects/679926387543/locations/us-central1/models/2084398068844724224\n"
          ]
        },
        {
          "name": "stdout",
          "output_type": "stream",
          "text": [
            "  Version: 1\n",
            "Create Time: 2024-10-22 01:39:58.887530+00:00\n",
            "Model: pandas test PASSTHRU\n"
          ]
        },
        {
          "name": "stderr",
          "output_type": "stream",
          "text": [
            "INFO:google.cloud.aiplatform.models:Getting versions for projects/679926387543/locations/us-central1/models/1654304304430841856\n",
            "INFO:google.cloud.aiplatform.models:Getting versions for projects/679926387543/locations/us-central1/models/2658044071381041152\n"
          ]
        },
        {
          "name": "stdout",
          "output_type": "stream",
          "text": [
            "  Version: 1\n",
            "Create Time: 2024-10-21 23:16:05.543894+00:00\n",
            "Model: Scikit-Learn Test\n",
            "  Version: 1\n",
            "Create Time: 2024-10-21 20:54:58.171670+00:00\n",
            "Model: Scikit-Learn Test\n"
          ]
        },
        {
          "name": "stderr",
          "output_type": "stream",
          "text": [
            "INFO:google.cloud.aiplatform.models:Getting versions for projects/679926387543/locations/us-central1/models/5566907635778715648\n",
            "INFO:google.cloud.aiplatform.models:Getting versions for projects/679926387543/locations/us-central1/models/4353504195551166464\n"
          ]
        },
        {
          "name": "stdout",
          "output_type": "stream",
          "text": [
            "  Version: 1\n",
            "Create Time: 2024-10-21 20:26:14.152385+00:00\n",
            "Model: jeremy\n",
            "  Version: 1\n",
            "Create Time: 2024-04-04 21:11:49.945154+00:00\n",
            "Model: tuned-text-embedding-model\n"
          ]
        },
        {
          "name": "stderr",
          "output_type": "stream",
          "text": [
            "INFO:google.cloud.aiplatform.models:Getting versions for projects/679926387543/locations/us-central1/models/5670244136603615232\n"
          ]
        },
        {
          "name": "stdout",
          "output_type": "stream",
          "text": [
            "  Version: 1\n",
            "Create Time: 2024-03-24 06:54:18.875521+00:00\n",
            "Model: test_model\n"
          ]
        },
        {
          "name": "stderr",
          "output_type": "stream",
          "text": [
            "INFO:google.cloud.aiplatform.models:Getting versions for projects/679926387543/locations/us-central1/models/4469820431141961728\n"
          ]
        },
        {
          "name": "stdout",
          "output_type": "stream",
          "text": [
            "  Version: 1\n",
            "Create Time: 2024-03-22 20:30:38.756641+00:00\n",
            "Model: hello-world-model\n"
          ]
        },
        {
          "name": "stderr",
          "output_type": "stream",
          "text": [
            "INFO:google.cloud.aiplatform.models:Getting versions for projects/679926387543/locations/us-central1/models/6665325249485078528\n"
          ]
        },
        {
          "name": "stdout",
          "output_type": "stream",
          "text": [
            "  Version: 1\n",
            "Create Time: 2024-03-06 17:14:51.843687+00:00\n",
            "Model: ray-on-vertex-registered-tensorflow-model\n"
          ]
        },
        {
          "name": "stderr",
          "output_type": "stream",
          "text": [
            "INFO:google.cloud.aiplatform.models:Getting versions for projects/679926387543/locations/us-central1/models/1317019217005903872\n"
          ]
        },
        {
          "name": "stdout",
          "output_type": "stream",
          "text": [
            "  Version: 1\n",
            "Create Time: 2024-03-06 17:11:58.805138+00:00\n",
            "Model: ray-iris\n"
          ]
        },
        {
          "name": "stderr",
          "output_type": "stream",
          "text": [
            "INFO:google.cloud.aiplatform.models:Getting versions for projects/679926387543/locations/us-central1/models/8579214353629184000\n",
            "INFO:google.cloud.aiplatform.models:Getting versions for projects/679926387543/locations/us-central1/models/6012162566028001280\n"
          ]
        },
        {
          "name": "stdout",
          "output_type": "stream",
          "text": [
            "  Version: 1\n",
            "Create Time: 2024-03-04 00:08:10.787806+00:00\n",
            "Model: hello-world-model\n",
            "  Version: 1\n",
            "Create Time: 2024-02-29 04:03:19.003616+00:00\n",
            "Model: hello-world-model\n"
          ]
        },
        {
          "name": "stderr",
          "output_type": "stream",
          "text": [
            "INFO:google.cloud.aiplatform.models:Getting versions for projects/679926387543/locations/us-central1/models/80921856781058048\n",
            "INFO:google.cloud.aiplatform.models:Getting versions for projects/679926387543/locations/us-central1/models/4607039482288406528\n"
          ]
        },
        {
          "name": "stdout",
          "output_type": "stream",
          "text": [
            "  Version: 1\n",
            "Create Time: 2024-02-29 03:54:14.700187+00:00\n",
            "Model: ray-on-vertex-registered-tensorflow-model\n",
            "  Version: 1\n",
            "Create Time: 2024-02-29 03:53:23.383443+00:00\n",
            "Model: hello-world-model\n"
          ]
        },
        {
          "name": "stderr",
          "output_type": "stream",
          "text": [
            "INFO:google.cloud.aiplatform.models:Getting versions for projects/679926387543/locations/us-central1/models/9088121111522050048\n"
          ]
        },
        {
          "name": "stdout",
          "output_type": "stream",
          "text": [
            "  Version: 1\n",
            "Create Time: 2024-02-29 03:48:09.533465+00:00\n",
            "Model: hello-world-model\n"
          ]
        },
        {
          "name": "stderr",
          "output_type": "stream",
          "text": [
            "INFO:google.cloud.aiplatform.models:Getting versions for projects/679926387543/locations/us-central1/models/7813602416976199680\n"
          ]
        },
        {
          "name": "stdout",
          "output_type": "stream",
          "text": [
            "  Version: 1\n",
            "Create Time: 2024-02-29 03:42:49.277634+00:00\n",
            "Model: ray-on-vertex-registered-tensorflow-model\n"
          ]
        },
        {
          "name": "stderr",
          "output_type": "stream",
          "text": [
            "INFO:google.cloud.aiplatform.models:Getting versions for projects/679926387543/locations/us-central1/models/5953615770872184832\n",
            "INFO:google.cloud.aiplatform.models:Getting versions for projects/679926387543/locations/us-central1/models/5160982236454977536\n"
          ]
        },
        {
          "name": "stdout",
          "output_type": "stream",
          "text": [
            "  Version: 1\n",
            "Create Time: 2024-02-29 03:41:20.040882+00:00\n",
            "Model: ray-on-vertex-registered-tensorflow-model-2024-02-29-03-19-58-b4ab3\n",
            "  Version: 1\n",
            "Create Time: 2024-02-29 03:20:04.133256+00:00\n",
            "Model: ray-on-vertex-registered-tensorflow-model-2024-02-29-03-16-45-13d48\n"
          ]
        },
        {
          "name": "stderr",
          "output_type": "stream",
          "text": [
            "INFO:google.cloud.aiplatform.models:Getting versions for projects/679926387543/locations/us-central1/models/9128653508168384512\n"
          ]
        },
        {
          "name": "stdout",
          "output_type": "stream",
          "text": [
            "  Version: 1\n",
            "Create Time: 2024-02-29 03:16:51.559166+00:00\n",
            "Model: ray-on-vertex-registered-tensorflow-model-2024-02-29-02-32-07-ed9eb\n"
          ]
        },
        {
          "name": "stderr",
          "output_type": "stream",
          "text": [
            "INFO:google.cloud.aiplatform.models:Getting versions for projects/679926387543/locations/us-central1/models/6269289957253185536\n",
            "INFO:google.cloud.aiplatform.models:Getting versions for projects/679926387543/locations/us-central1/models/4800694266265337856\n"
          ]
        },
        {
          "name": "stdout",
          "output_type": "stream",
          "text": [
            "  Version: 1\n",
            "Create Time: 2024-02-29 02:32:13.494115+00:00\n",
            "Model: ray-on-vertex-registered-tensorflow-model-2024-02-29-02-27-14-48d47\n",
            "  Version: 1\n",
            "Create Time: 2024-02-29 02:27:20.350001+00:00\n",
            "Model: ray-on-vertex-registered-tensorflow-model-2024-02-29-02-19-36-8d88e\n"
          ]
        },
        {
          "name": "stderr",
          "output_type": "stream",
          "text": [
            "INFO:google.cloud.aiplatform.models:Getting versions for projects/679926387543/locations/us-central1/models/5179418847429525504\n",
            "INFO:google.cloud.aiplatform.models:Getting versions for projects/679926387543/locations/us-central1/models/5972052381846732800\n"
          ]
        },
        {
          "name": "stdout",
          "output_type": "stream",
          "text": [
            "  Version: 1\n",
            "Create Time: 2024-02-29 02:19:41.897869+00:00\n",
            "Model: ray-on-vertex-registered-tensorflow-model-2024-02-29-02-09-20-0cec0\n",
            "  Version: 1\n",
            "Create Time: 2024-02-29 02:09:26.525306+00:00\n",
            "Model: ray-on-vertex-registered-tensorflow-model-2024-02-29-02-03-45-af0b1\n"
          ]
        },
        {
          "name": "stderr",
          "output_type": "stream",
          "text": [
            "INFO:google.cloud.aiplatform.models:Getting versions for projects/679926387543/locations/us-central1/models/3528427371533172736\n"
          ]
        },
        {
          "name": "stdout",
          "output_type": "stream",
          "text": [
            "  Version: 1\n",
            "Create Time: 2024-02-29 02:03:51.411370+00:00\n",
            "Model: ray-on-vertex-registered-tensorflow-model-2024-02-29-00-16-25-a406a\n"
          ]
        },
        {
          "name": "stderr",
          "output_type": "stream",
          "text": [
            "INFO:google.cloud.aiplatform.models:Getting versions for projects/679926387543/locations/us-central1/models/google_gemma-7b-it-1708615857695\n",
            "INFO:google.cloud.aiplatform.models:Getting versions for projects/679926387543/locations/us-central1/models/1174663247534489600\n"
          ]
        },
        {
          "name": "stdout",
          "output_type": "stream",
          "text": [
            "  Version: 1\n",
            "Create Time: 2024-02-29 00:16:32.580769+00:00\n",
            "Model: google_gemma-7b-it-1708615857695\n",
            "  Version: 1\n",
            "Create Time: 2024-02-22 15:31:16.900818+00:00\n",
            "Model: llama2-serve_20240214_001208\n"
          ]
        },
        {
          "name": "stderr",
          "output_type": "stream",
          "text": [
            "INFO:google.cloud.aiplatform.models:Getting versions for projects/679926387543/locations/us-central1/models/3404226538059595776\n",
            "INFO:google.cloud.aiplatform.models:Getting versions for projects/679926387543/locations/us-central1/models/8285204944361881600\n"
          ]
        },
        {
          "name": "stdout",
          "output_type": "stream",
          "text": [
            "  Version: 1\n",
            "Create Time: 2024-02-14 00:12:10.159223+00:00\n",
            "Model: llama2-serve_20240213_222100\n",
            "  Version: 1\n",
            "Create Time: 2024-02-13 22:21:30.575879+00:00\n",
            "Model: pandas test CLASSIFICATION\n"
          ]
        },
        {
          "name": "stderr",
          "output_type": "stream",
          "text": [
            "INFO:google.cloud.aiplatform.models:Getting versions for projects/679926387543/locations/us-central1/models/7454818578693357568\n",
            "INFO:google.cloud.aiplatform.models:Getting versions for projects/679926387543/locations/us-central1/models/5244677061561286656\n"
          ]
        },
        {
          "name": "stdout",
          "output_type": "stream",
          "text": [
            "  Version: 1\n",
            "Create Time: 2023-11-13 19:34:19.553010+00:00\n",
            "Model: custom_iris_pytorch\n",
            "  Version: 1\n",
            "Create Time: 2023-10-13 17:42:18.388300+00:00\n",
            "Model: custom_iris_pytorch\n"
          ]
        },
        {
          "name": "stderr",
          "output_type": "stream",
          "text": [
            "INFO:google.cloud.aiplatform.models:Getting versions for projects/679926387543/locations/us-central1/models/6392672754075697152\n",
            "INFO:google.cloud.aiplatform.models:Getting versions for projects/679926387543/locations/us-central1/models/4892974078161321984\n"
          ]
        },
        {
          "name": "stdout",
          "output_type": "stream",
          "text": [
            "  Version: 1\n",
            "Create Time: 2023-10-13 16:14:31.361712+00:00\n",
            "Model: custom_iris_pytorch\n",
            "  Version: 1\n",
            "Create Time: 2023-10-13 05:18:52.213726+00:00\n",
            "Model: custom_iris_pytorch\n"
          ]
        },
        {
          "name": "stderr",
          "output_type": "stream",
          "text": [
            "INFO:google.cloud.aiplatform.models:Getting versions for projects/679926387543/locations/us-central1/models/2356884537998311424\n",
            "INFO:google.cloud.aiplatform.models:Getting versions for projects/679926387543/locations/us-central1/models/8749744209050730496\n"
          ]
        },
        {
          "name": "stdout",
          "output_type": "stream",
          "text": [
            "  Version: 1\n",
            "Create Time: 2023-10-13 04:49:11.697177+00:00\n",
            "Model: custom_iris_pytorch\n",
            "  Version: 1\n",
            "Create Time: 2023-10-12 23:34:11.241859+00:00\n",
            "Model: custom_iris_pytorch\n"
          ]
        },
        {
          "name": "stderr",
          "output_type": "stream",
          "text": [
            "INFO:google.cloud.aiplatform.models:Getting versions for projects/679926387543/locations/us-central1/models/4495531411045875712\n"
          ]
        },
        {
          "name": "stdout",
          "output_type": "stream",
          "text": [
            "  Version: 1\n",
            "Create Time: 2023-10-12 23:20:31.286228+00:00\n",
            "Model: custom_iris_pytorch\n"
          ]
        },
        {
          "name": "stderr",
          "output_type": "stream",
          "text": [
            "INFO:google.cloud.aiplatform.models:Getting versions for projects/679926387543/locations/us-central1/models/8817579678437998592\n"
          ]
        },
        {
          "name": "stdout",
          "output_type": "stream",
          "text": [
            "  Version: 1\n",
            "Create Time: 2023-10-12 22:36:05.500022+00:00\n",
            "Model: mlops-titanic\n"
          ]
        },
        {
          "name": "stderr",
          "output_type": "stream",
          "text": [
            "INFO:google.cloud.aiplatform.models:Getting versions for projects/679926387543/locations/us-central1/models/2080564071798669312\n",
            "INFO:google.cloud.aiplatform.models:Getting versions for projects/679926387543/locations/us-central1/models/315751152194945024\n"
          ]
        },
        {
          "name": "stdout",
          "output_type": "stream",
          "text": [
            "  Version: 1\n",
            "Create Time: 2023-10-10 21:34:11.842500+00:00\n",
            "Model: mlops-titanic\n",
            "  Version: 1\n",
            "Create Time: 2023-09-24 22:41:51.143354+00:00\n",
            "Model: text2sql-model\n"
          ]
        },
        {
          "name": "stderr",
          "output_type": "stream",
          "text": [
            "INFO:google.cloud.aiplatform.models:Getting versions for projects/679926387543/locations/us-central1/models/538050413098696704\n",
            "INFO:google.cloud.aiplatform.models:Getting versions for projects/679926387543/locations/us-central1/models/3019815282756550656\n"
          ]
        },
        {
          "name": "stdout",
          "output_type": "stream",
          "text": [
            "  Version: 1\n",
            "Create Time: 2023-09-06 21:25:58.566328+00:00\n",
            "Model: pandas test CLASSIFICATION\n",
            "  Version: 1\n",
            "Create Time: 2023-04-18 14:13:21.482923+00:00\n",
            "Model: Merlin Spotify Query Tower Model - Workflow Local V2\n"
          ]
        },
        {
          "name": "stderr",
          "output_type": "stream",
          "text": [
            "INFO:google.cloud.aiplatform.models:Getting versions for projects/679926387543/locations/us-central1/models/2182849439507415040\n"
          ]
        },
        {
          "name": "stdout",
          "output_type": "stream",
          "text": [
            "  Version: 1\n",
            "Create Time: 2023-04-08 16:48:11.864224+00:00\n",
            "Model: Merlin Spotify Query Tower Model - Workflow Local V2\n"
          ]
        },
        {
          "name": "stderr",
          "output_type": "stream",
          "text": [
            "INFO:google.cloud.aiplatform.models:Getting versions for projects/679926387543/locations/us-central1/models/640929517086441472\n"
          ]
        },
        {
          "name": "stdout",
          "output_type": "stream",
          "text": [
            "  Version: 1\n",
            "Create Time: 2023-04-08 04:48:54.127920+00:00\n",
            "Model: pandas test CLASSIFICATION\n"
          ]
        },
        {
          "name": "stderr",
          "output_type": "stream",
          "text": [
            "INFO:google.cloud.aiplatform.models:Getting versions for projects/679926387543/locations/us-central1/models/4743260176876830720\n",
            "INFO:google.cloud.aiplatform.models:Getting versions for projects/679926387543/locations/us-central1/models/7092168857527255040\n"
          ]
        },
        {
          "name": "stdout",
          "output_type": "stream",
          "text": [
            "  Version: 1\n",
            "Create Time: 2023-04-04 18:11:50.387243+00:00\n",
            "Model: pandas test CLASSIFICATION\n",
            "  Version: 1\n",
            "Create Time: 2023-03-20 15:43:04.759100+00:00\n",
            "Model: digits test\n"
          ]
        },
        {
          "name": "stderr",
          "output_type": "stream",
          "text": [
            "INFO:google.cloud.aiplatform.models:Getting versions for projects/679926387543/locations/us-central1/models/6479573755088601088\n",
            "INFO:google.cloud.aiplatform.models:Getting versions for projects/679926387543/locations/us-central1/models/1448166764943769600\n"
          ]
        },
        {
          "name": "stdout",
          "output_type": "stream",
          "text": [
            "  Version: 1\n",
            "Create Time: 2023-03-16 15:18:02.922302+00:00\n",
            "Model: model_display_name\n",
            "  Version: 1\n",
            "Create Time: 2023-01-24 21:09:17.780153+00:00\n",
            "Model: churn\n"
          ]
        },
        {
          "name": "stderr",
          "output_type": "stream",
          "text": [
            "INFO:google.cloud.aiplatform.models:Getting versions for projects/679926387543/locations/us-central1/models/3782685037409861632\n"
          ]
        },
        {
          "name": "stdout",
          "output_type": "stream",
          "text": [
            "  Version: 1\n",
            "Create Time: 2022-09-01 16:15:04.595600+00:00\n",
            "Model: Movielens User Query Model\n"
          ]
        },
        {
          "name": "stderr",
          "output_type": "stream",
          "text": [
            "INFO:google.cloud.aiplatform.models:Getting versions for projects/679926387543/locations/us-central1/models/1821930349643431936\n",
            "INFO:google.cloud.aiplatform.models:Getting versions for projects/679926387543/locations/us-central1/models/8299698706639224832\n"
          ]
        },
        {
          "name": "stdout",
          "output_type": "stream",
          "text": [
            "  Version: 1\n",
            "Create Time: 2022-07-25 17:46:07.290274+00:00\n",
            "Model: Movielens User Query Model\n",
            "  Version: 1\n",
            "Create Time: 2022-07-20 21:52:03.706922+00:00\n",
            "Model: pandas test CLASSIFICATION\n"
          ]
        },
        {
          "name": "stderr",
          "output_type": "stream",
          "text": [
            "INFO:google.cloud.aiplatform.models:Getting versions for projects/679926387543/locations/us-central1/models/3769077481504505856\n"
          ]
        },
        {
          "name": "stdout",
          "output_type": "stream",
          "text": [
            "  Version: 1\n",
            "Create Time: 2022-06-04 06:37:54.989145+00:00\n",
            "Model: pandas test CLASSIFICATION\n"
          ]
        },
        {
          "name": "stderr",
          "output_type": "stream",
          "text": [
            "INFO:google.cloud.aiplatform.models:Getting versions for projects/679926387543/locations/us-central1/models/8013720130301198336\n",
            "INFO:google.cloud.aiplatform.models:Getting versions for projects/679926387543/locations/us-central1/models/2141026216210071552\n"
          ]
        },
        {
          "name": "stdout",
          "output_type": "stream",
          "text": [
            "  Version: 1\n",
            "Create Time: 2022-06-04 06:20:54.130957+00:00\n",
            "Model: pandas test CLASSIFICATION\n",
            "  Version: 1\n",
            "Create Time: 2022-06-04 06:01:11.216379+00:00\n",
            "Model: pandas test CLASSIFICATION\n"
          ]
        },
        {
          "name": "stderr",
          "output_type": "stream",
          "text": [
            "INFO:google.cloud.aiplatform.models:Getting versions for projects/679926387543/locations/us-central1/models/5966834099661307904\n",
            "INFO:google.cloud.aiplatform.models:Getting versions for projects/679926387543/locations/us-central1/models/6489251656436285440\n"
          ]
        },
        {
          "name": "stdout",
          "output_type": "stream",
          "text": [
            "  Version: 1\n",
            "Create Time: 2022-06-04 05:44:07.363254+00:00\n",
            "Model: pandas test CLASSIFICATION\n",
            "  Version: 1\n",
            "Create Time: 2022-06-04 04:54:28.166416+00:00\n",
            "Model: pandas test CLASSIFICATION\n",
            "  Version: 1\n",
            "Create Time: 2022-06-04 04:35:41.386906+00:00\n"
          ]
        }
      ],
      "source": [
        "from google.cloud import aiplatform\n",
        "\n",
        "aiplatform.init(project=PROJECT_ID, location=REGION, staging_bucket=EVAL_BUCKET)\n",
        "\n",
        "models = aiplatform.Model.list()\n",
        "\n",
        "for model in models:\n",
        "    print(f\"Model: {model.display_name}\")\n",
        "    versions = model.versioning_registry.list_versions()\n",
        "    for version in versions:\n",
        "        print(\n",
        "            f\"  Version: {version.version_id}\\nCreate Time: {version.version_create_time}\"\n",
        "        )"
      ]
    },
    {
      "cell_type": "markdown",
      "id": "_MWTexuGY2Jy",
      "metadata": {
        "id": "_MWTexuGY2Jy"
      },
      "source": [
        "## 2. Find the model_id\n",
        "\n",
        "The model_id is part of the resource_name attribute of a Model object.\n",
        "You can use the resource_name to extract the model_id from the full resource name string."
      ]
    },
    {
      "cell_type": "code",
      "execution_count": 5,
      "id": "0WMvlgy8Zp-j",
      "metadata": {
        "colab": {
          "base_uri": "https://localhost:8080/"
        },
        "id": "0WMvlgy8Zp-j",
        "outputId": "8ea432d7-cf26-4d53-cc7a-ccc1cf7d9e49"
      },
      "outputs": [
        {
          "name": "stdout",
          "output_type": "stream",
          "text": [
            "Model ID for pandas test REGRESSION: 659756454688849920\n"
          ]
        }
      ],
      "source": [
        "model_display_name = \"pandas test REGRESSION\"\n",
        "models = aiplatform.Model.list(filter=f'display_name=\"{model_display_name}\"')\n",
        "\n",
        "if models:\n",
        "    model = models[0]\n",
        "    model_id = model.resource_name.split(\"/\")[-1].split(\"@\")[0]\n",
        "    print(f\"Model ID for {model_display_name}: {model_id}\")\n",
        "else:\n",
        "    print(f\"No model found with display name: {model_display_name}\")"
      ]
    },
    {
      "cell_type": "code",
      "execution_count": 6,
      "id": "hTFDl0tAVABT",
      "metadata": {
        "colab": {
          "base_uri": "https://localhost:8080/"
        },
        "id": "hTFDl0tAVABT",
        "outputId": "12c2a9a0-c28d-4aca-d4a9-6b260333d562"
      },
      "outputs": [
        {
          "data": {
            "text/plain": [
              "[<google.cloud.aiplatform.models.Model object at 0x7e716c53b3d0> \n",
              " resource name: projects/679926387543/locations/us-central1/models/659756454688849920,\n",
              " <google.cloud.aiplatform.models.Model object at 0x7e716c5398d0> \n",
              " resource name: projects/679926387543/locations/us-central1/models/6825184344559058944]"
            ]
          },
          "execution_count": 6,
          "metadata": {},
          "output_type": "execute_result"
        }
      ],
      "source": [
        "models"
      ]
    },
    {
      "cell_type": "markdown",
      "id": "f6wHrGxiZzDm",
      "metadata": {
        "id": "f6wHrGxiZzDm"
      },
      "source": [
        "## 3. Run Evaluation for a Specific Model Version\n",
        "\n",
        "The aiplatform.Model.evaluate() method does not directly support specifying a version. It uses the default version of the model.\n",
        "\n",
        "Also, to evaluate a specific version, you'll need note the format for the predictions, usually in an ordered list from input, or key-value pairs if that was used for training.\n",
        "\n",
        "Here's an example of the jsonl instances used for this specific model - [doc link](https://cloud.google.com/vertex-ai/docs/predictions/get-batch-predictions)"
      ]
    },
    {
      "cell_type": "markdown",
      "id": "Z5QoQ-ZYuhso",
      "metadata": {
        "id": "Z5QoQ-ZYuhso"
      },
      "source": [
        "#### Generate some random data for evaluation"
      ]
    },
    {
      "cell_type": "code",
      "execution_count": null,
      "id": "GZvqLtRRweZ9",
      "metadata": {
        "colab": {
          "base_uri": "https://localhost:8080/",
          "height": 206
        },
        "id": "GZvqLtRRweZ9",
        "outputId": "64c5da2a-385a-4eb0-8e8d-65769c8188da"
      },
      "outputs": [
        {
          "data": {
            "application/vnd.google.colaboratory.intrinsic+json": {
              "summary": "{\n  \"name\": \"random_data\",\n  \"rows\": 100,\n  \"fields\": [\n    {\n      \"column\": \"col1\",\n      \"properties\": {\n        \"dtype\": \"number\",\n        \"std\": 0.97725598274615,\n        \"min\": -2.2828515444388398,\n        \"max\": 2.335238139524353,\n        \"num_unique_values\": 100,\n        \"samples\": [\n          -0.16746021023600163,\n          -1.2130188514563405,\n          0.23587854670243205\n        ],\n        \"semantic_type\": \"\",\n        \"description\": \"\"\n      }\n    },\n    {\n      \"column\": \"col2\",\n      \"properties\": {\n        \"dtype\": \"number\",\n        \"std\": 1.1055502995808901,\n        \"min\": -2.4823357157083734,\n        \"max\": 3.956576941801103,\n        \"num_unique_values\": 100,\n        \"samples\": [\n          0.29915774884162455,\n          -1.899165928396781,\n          0.09329735033836523\n        ],\n        \"semantic_type\": \"\",\n        \"description\": \"\"\n      }\n    },\n    {\n      \"column\": \"col3\",\n      \"properties\": {\n        \"dtype\": \"number\",\n        \"std\": 0.9735381353573644,\n        \"min\": -2.520300988433855,\n        \"max\": 2.347447136592528,\n        \"num_unique_values\": 100,\n        \"samples\": [\n          -1.7124383242953818,\n          1.3267119365579496,\n          0.1976561809203045\n        ],\n        \"semantic_type\": \"\",\n        \"description\": \"\"\n      }\n    },\n    {\n      \"column\": \"label\",\n      \"properties\": {\n        \"dtype\": \"number\",\n        \"std\": 1.0157187357889221,\n        \"min\": -2.7261195189725216,\n        \"max\": 2.6850080890037877,\n        \"num_unique_values\": 100,\n        \"samples\": [\n          -0.15657124431075858,\n          0.2416354207477984,\n          -0.45169108810384395\n        ],\n        \"semantic_type\": \"\",\n        \"description\": \"\"\n      }\n    }\n  ]\n}",
              "type": "dataframe",
              "variable_name": "random_data"
            },
            "text/html": [
              "\n",
              "  <div id=\"df-ca8061eb-5d7c-45ad-955a-56ed7beaec3f\" class=\"colab-df-container\">\n",
              "    <div>\n",
              "<style scoped>\n",
              "    .dataframe tbody tr th:only-of-type {\n",
              "        vertical-align: middle;\n",
              "    }\n",
              "\n",
              "    .dataframe tbody tr th {\n",
              "        vertical-align: top;\n",
              "    }\n",
              "\n",
              "    .dataframe thead th {\n",
              "        text-align: right;\n",
              "    }\n",
              "</style>\n",
              "<table border=\"1\" class=\"dataframe\">\n",
              "  <thead>\n",
              "    <tr style=\"text-align: right;\">\n",
              "      <th></th>\n",
              "      <th>col1</th>\n",
              "      <th>col2</th>\n",
              "      <th>col3</th>\n",
              "      <th>label</th>\n",
              "    </tr>\n",
              "  </thead>\n",
              "  <tbody>\n",
              "    <tr>\n",
              "      <th>0</th>\n",
              "      <td>-0.393231</td>\n",
              "      <td>-1.400513</td>\n",
              "      <td>-2.195137</td>\n",
              "      <td>-1.382178</td>\n",
              "    </tr>\n",
              "    <tr>\n",
              "      <th>1</th>\n",
              "      <td>0.196703</td>\n",
              "      <td>1.656838</td>\n",
              "      <td>-0.561889</td>\n",
              "      <td>1.055008</td>\n",
              "    </tr>\n",
              "    <tr>\n",
              "      <th>2</th>\n",
              "      <td>0.143774</td>\n",
              "      <td>1.057658</td>\n",
              "      <td>-0.910178</td>\n",
              "      <td>1.031914</td>\n",
              "    </tr>\n",
              "    <tr>\n",
              "      <th>3</th>\n",
              "      <td>-1.074961</td>\n",
              "      <td>-0.372145</td>\n",
              "      <td>0.037475</td>\n",
              "      <td>-1.497133</td>\n",
              "    </tr>\n",
              "    <tr>\n",
              "      <th>4</th>\n",
              "      <td>0.206490</td>\n",
              "      <td>-0.267766</td>\n",
              "      <td>-1.084117</td>\n",
              "      <td>-1.295696</td>\n",
              "    </tr>\n",
              "  </tbody>\n",
              "</table>\n",
              "</div>\n",
              "    <div class=\"colab-df-buttons\">\n",
              "\n",
              "  <div class=\"colab-df-container\">\n",
              "    <button class=\"colab-df-convert\" onclick=\"convertToInteractive('df-ca8061eb-5d7c-45ad-955a-56ed7beaec3f')\"\n",
              "            title=\"Convert this dataframe to an interactive table.\"\n",
              "            style=\"display:none;\">\n",
              "\n",
              "  <svg xmlns=\"http://www.w3.org/2000/svg\" height=\"24px\" viewBox=\"0 -960 960 960\">\n",
              "    <path d=\"M120-120v-720h720v720H120Zm60-500h600v-160H180v160Zm220 220h160v-160H400v160Zm0 220h160v-160H400v160ZM180-400h160v-160H180v160Zm440 0h160v-160H620v160ZM180-180h160v-160H180v160Zm440 0h160v-160H620v160Z\"/>\n",
              "  </svg>\n",
              "    </button>\n",
              "\n",
              "  <style>\n",
              "    .colab-df-container {\n",
              "      display:flex;\n",
              "      gap: 12px;\n",
              "    }\n",
              "\n",
              "    .colab-df-convert {\n",
              "      background-color: #E8F0FE;\n",
              "      border: none;\n",
              "      border-radius: 50%;\n",
              "      cursor: pointer;\n",
              "      display: none;\n",
              "      fill: #1967D2;\n",
              "      height: 32px;\n",
              "      padding: 0 0 0 0;\n",
              "      width: 32px;\n",
              "    }\n",
              "\n",
              "    .colab-df-convert:hover {\n",
              "      background-color: #E2EBFA;\n",
              "      box-shadow: 0px 1px 2px rgba(60, 64, 67, 0.3), 0px 1px 3px 1px rgba(60, 64, 67, 0.15);\n",
              "      fill: #174EA6;\n",
              "    }\n",
              "\n",
              "    .colab-df-buttons div {\n",
              "      margin-bottom: 4px;\n",
              "    }\n",
              "\n",
              "    [theme=dark] .colab-df-convert {\n",
              "      background-color: #3B4455;\n",
              "      fill: #D2E3FC;\n",
              "    }\n",
              "\n",
              "    [theme=dark] .colab-df-convert:hover {\n",
              "      background-color: #434B5C;\n",
              "      box-shadow: 0px 1px 3px 1px rgba(0, 0, 0, 0.15);\n",
              "      filter: drop-shadow(0px 1px 2px rgba(0, 0, 0, 0.3));\n",
              "      fill: #FFFFFF;\n",
              "    }\n",
              "  </style>\n",
              "\n",
              "    <script>\n",
              "      const buttonEl =\n",
              "        document.querySelector('#df-ca8061eb-5d7c-45ad-955a-56ed7beaec3f button.colab-df-convert');\n",
              "      buttonEl.style.display =\n",
              "        google.colab.kernel.accessAllowed ? 'block' : 'none';\n",
              "\n",
              "      async function convertToInteractive(key) {\n",
              "        const element = document.querySelector('#df-ca8061eb-5d7c-45ad-955a-56ed7beaec3f');\n",
              "        const dataTable =\n",
              "          await google.colab.kernel.invokeFunction('convertToInteractive',\n",
              "                                                    [key], {});\n",
              "        if (!dataTable) return;\n",
              "\n",
              "        const docLinkHtml = 'Like what you see? Visit the ' +\n",
              "          '<a target=\"_blank\" href=https://colab.research.google.com/notebooks/data_table.ipynb>data table notebook</a>'\n",
              "          + ' to learn more about interactive tables.';\n",
              "        element.innerHTML = '';\n",
              "        dataTable['output_type'] = 'display_data';\n",
              "        await google.colab.output.renderOutput(dataTable, element);\n",
              "        const docLink = document.createElement('div');\n",
              "        docLink.innerHTML = docLinkHtml;\n",
              "        element.appendChild(docLink);\n",
              "      }\n",
              "    </script>\n",
              "  </div>\n",
              "\n",
              "\n",
              "<div id=\"df-5ea95046-f06b-4ffb-8e96-8ad6b494ad3b\">\n",
              "  <button class=\"colab-df-quickchart\" onclick=\"quickchart('df-5ea95046-f06b-4ffb-8e96-8ad6b494ad3b')\"\n",
              "            title=\"Suggest charts\"\n",
              "            style=\"display:none;\">\n",
              "\n",
              "<svg xmlns=\"http://www.w3.org/2000/svg\" height=\"24px\"viewBox=\"0 0 24 24\"\n",
              "     width=\"24px\">\n",
              "    <g>\n",
              "        <path d=\"M19 3H5c-1.1 0-2 .9-2 2v14c0 1.1.9 2 2 2h14c1.1 0 2-.9 2-2V5c0-1.1-.9-2-2-2zM9 17H7v-7h2v7zm4 0h-2V7h2v10zm4 0h-2v-4h2v4z\"/>\n",
              "    </g>\n",
              "</svg>\n",
              "  </button>\n",
              "\n",
              "<style>\n",
              "  .colab-df-quickchart {\n",
              "      --bg-color: #E8F0FE;\n",
              "      --fill-color: #1967D2;\n",
              "      --hover-bg-color: #E2EBFA;\n",
              "      --hover-fill-color: #174EA6;\n",
              "      --disabled-fill-color: #AAA;\n",
              "      --disabled-bg-color: #DDD;\n",
              "  }\n",
              "\n",
              "  [theme=dark] .colab-df-quickchart {\n",
              "      --bg-color: #3B4455;\n",
              "      --fill-color: #D2E3FC;\n",
              "      --hover-bg-color: #434B5C;\n",
              "      --hover-fill-color: #FFFFFF;\n",
              "      --disabled-bg-color: #3B4455;\n",
              "      --disabled-fill-color: #666;\n",
              "  }\n",
              "\n",
              "  .colab-df-quickchart {\n",
              "    background-color: var(--bg-color);\n",
              "    border: none;\n",
              "    border-radius: 50%;\n",
              "    cursor: pointer;\n",
              "    display: none;\n",
              "    fill: var(--fill-color);\n",
              "    height: 32px;\n",
              "    padding: 0;\n",
              "    width: 32px;\n",
              "  }\n",
              "\n",
              "  .colab-df-quickchart:hover {\n",
              "    background-color: var(--hover-bg-color);\n",
              "    box-shadow: 0 1px 2px rgba(60, 64, 67, 0.3), 0 1px 3px 1px rgba(60, 64, 67, 0.15);\n",
              "    fill: var(--button-hover-fill-color);\n",
              "  }\n",
              "\n",
              "  .colab-df-quickchart-complete:disabled,\n",
              "  .colab-df-quickchart-complete:disabled:hover {\n",
              "    background-color: var(--disabled-bg-color);\n",
              "    fill: var(--disabled-fill-color);\n",
              "    box-shadow: none;\n",
              "  }\n",
              "\n",
              "  .colab-df-spinner {\n",
              "    border: 2px solid var(--fill-color);\n",
              "    border-color: transparent;\n",
              "    border-bottom-color: var(--fill-color);\n",
              "    animation:\n",
              "      spin 1s steps(1) infinite;\n",
              "  }\n",
              "\n",
              "  @keyframes spin {\n",
              "    0% {\n",
              "      border-color: transparent;\n",
              "      border-bottom-color: var(--fill-color);\n",
              "      border-left-color: var(--fill-color);\n",
              "    }\n",
              "    20% {\n",
              "      border-color: transparent;\n",
              "      border-left-color: var(--fill-color);\n",
              "      border-top-color: var(--fill-color);\n",
              "    }\n",
              "    30% {\n",
              "      border-color: transparent;\n",
              "      border-left-color: var(--fill-color);\n",
              "      border-top-color: var(--fill-color);\n",
              "      border-right-color: var(--fill-color);\n",
              "    }\n",
              "    40% {\n",
              "      border-color: transparent;\n",
              "      border-right-color: var(--fill-color);\n",
              "      border-top-color: var(--fill-color);\n",
              "    }\n",
              "    60% {\n",
              "      border-color: transparent;\n",
              "      border-right-color: var(--fill-color);\n",
              "    }\n",
              "    80% {\n",
              "      border-color: transparent;\n",
              "      border-right-color: var(--fill-color);\n",
              "      border-bottom-color: var(--fill-color);\n",
              "    }\n",
              "    90% {\n",
              "      border-color: transparent;\n",
              "      border-bottom-color: var(--fill-color);\n",
              "    }\n",
              "  }\n",
              "</style>\n",
              "\n",
              "  <script>\n",
              "    async function quickchart(key) {\n",
              "      const quickchartButtonEl =\n",
              "        document.querySelector('#' + key + ' button');\n",
              "      quickchartButtonEl.disabled = true;  // To prevent multiple clicks.\n",
              "      quickchartButtonEl.classList.add('colab-df-spinner');\n",
              "      try {\n",
              "        const charts = await google.colab.kernel.invokeFunction(\n",
              "            'suggestCharts', [key], {});\n",
              "      } catch (error) {\n",
              "        console.error('Error during call to suggestCharts:', error);\n",
              "      }\n",
              "      quickchartButtonEl.classList.remove('colab-df-spinner');\n",
              "      quickchartButtonEl.classList.add('colab-df-quickchart-complete');\n",
              "    }\n",
              "    (() => {\n",
              "      let quickchartButtonEl =\n",
              "        document.querySelector('#df-5ea95046-f06b-4ffb-8e96-8ad6b494ad3b button');\n",
              "      quickchartButtonEl.style.display =\n",
              "        google.colab.kernel.accessAllowed ? 'block' : 'none';\n",
              "    })();\n",
              "  </script>\n",
              "</div>\n",
              "\n",
              "    </div>\n",
              "  </div>\n"
            ],
            "text/plain": [
              "       col1      col2      col3     label\n",
              "0 -0.393231 -1.400513 -2.195137 -1.382178\n",
              "1  0.196703  1.656838 -0.561889  1.055008\n",
              "2  0.143774  1.057658 -0.910178  1.031914\n",
              "3 -1.074961 -0.372145  0.037475 -1.497133\n",
              "4  0.206490 -0.267766 -1.084117 -1.295696"
            ]
          },
          "execution_count": 9,
          "metadata": {},
          "output_type": "execute_result"
        }
      ],
      "source": [
        "import random\n",
        "import numpy as np\n",
        "import pandas as pd\n",
        "\n",
        "\n",
        "def generate_random_data(num_samples):\n",
        "    x = np.random.normal(0.0, 1.0, size=(num_samples, 3))\n",
        "    y = np.random.normal(0.0, 1.0, size=(num_samples, 1))\n",
        "    df = pd.DataFrame(\n",
        "        np.append(x, y, axis=1),\n",
        "        columns=[\"col1\", \"col2\", \"col3\", \"label\"],\n",
        "        dtype=\"float64\",\n",
        "    )\n",
        "    return df\n",
        "\n",
        "\n",
        "random_data = generate_random_data(100)\n",
        "random_data.head()"
      ]
    },
    {
      "cell_type": "code",
      "execution_count": null,
      "id": "1ay9ndxCHqq6",
      "metadata": {
        "colab": {
          "base_uri": "https://localhost:8080/"
        },
        "id": "1ay9ndxCHqq6",
        "outputId": "70ee7bf7-b6b6-4344-efc2-efcd28c1dbd2"
      },
      "outputs": [
        {
          "name": "stderr",
          "output_type": "stream",
          "text": [
            "<ipython-input-47-92a3edf519b5>:3: FutureWarning: to_gbq is deprecated and will be removed in a future version. Please use pandas_gbq.to_gbq instead: https://pandas-gbq.readthedocs.io/en/latest/api.html#pandas_gbq.to_gbq\n",
            "  random_data.to_gbq(destination_table=f\"{PROJECT_ID}.TEST.regresssion_eval\", project_id=PROJECT_ID, if_exists='replace')\n",
            "100%|██████████| 1/1 [00:00<00:00, 7037.42it/s]\n"
          ]
        }
      ],
      "source": [
        "from pandas_gbq import to_gbq\n",
        "\n",
        "random_data.to_gbq(\n",
        "    destination_table=f\"{PROJECT_ID}.TEST.regresssion_eval\",\n",
        "    project_id=PROJECT_ID,\n",
        "    if_exists=\"replace\",\n",
        ")"
      ]
    },
    {
      "cell_type": "code",
      "execution_count": null,
      "id": "q2cj95EqmqKg",
      "metadata": {
        "colab": {
          "base_uri": "https://localhost:8080/"
        },
        "id": "q2cj95EqmqKg",
        "outputId": "d81da5d6-4baa-43aa-bba8-689ee927af97"
      },
      "outputs": [
        {
          "name": "stderr",
          "output_type": "stream",
          "text": [
            "INFO:google.cloud.aiplatform.models:Getting versions for projects/679926387543/locations/us-central1/models/659756454688849920\n"
          ]
        },
        {
          "data": {
            "text/plain": [
              "[VersionInfo(version_id='1', version_create_time=DatetimeWithNanoseconds(2025, 3, 14, 20, 23, 30, 494782, tzinfo=datetime.timezone.utc), version_update_time=DatetimeWithNanoseconds(2025, 3, 14, 21, 40, 24, 412426, tzinfo=datetime.timezone.utc), model_display_name='pandas test REGRESSION', model_resource_name='projects/679926387543/locations/us-central1/models/659756454688849920', version_aliases=[], version_description=''),\n",
              " VersionInfo(version_id='2', version_create_time=DatetimeWithNanoseconds(2025, 3, 14, 21, 40, 23, 403059, tzinfo=datetime.timezone.utc), version_update_time=DatetimeWithNanoseconds(2025, 3, 16, 19, 0, 37, 249905, tzinfo=datetime.timezone.utc), model_display_name='pandas test REGRESSION', model_resource_name='projects/679926387543/locations/us-central1/models/659756454688849920', version_aliases=[], version_description=''),\n",
              " VersionInfo(version_id='3', version_create_time=DatetimeWithNanoseconds(2025, 3, 16, 19, 0, 19, 848141, tzinfo=datetime.timezone.utc), version_update_time=DatetimeWithNanoseconds(2025, 3, 16, 19, 2, 12, 319745, tzinfo=datetime.timezone.utc), model_display_name='pandas test REGRESSION', model_resource_name='projects/679926387543/locations/us-central1/models/659756454688849920', version_aliases=[], version_description=''),\n",
              " VersionInfo(version_id='4', version_create_time=DatetimeWithNanoseconds(2025, 3, 16, 19, 2, 11, 263796, tzinfo=datetime.timezone.utc), version_update_time=DatetimeWithNanoseconds(2025, 3, 16, 19, 2, 12, 319745, tzinfo=datetime.timezone.utc), model_display_name='pandas test REGRESSION', model_resource_name='projects/679926387543/locations/us-central1/models/659756454688849920', version_aliases=['default'], version_description='')]"
            ]
          },
          "execution_count": 11,
          "metadata": {},
          "output_type": "execute_result"
        }
      ],
      "source": [
        "if models:\n",
        "    model = models[0]\n",
        "    versions = model.versioning_registry.list_versions()\n",
        "\n",
        "versions"
      ]
    },
    {
      "cell_type": "code",
      "execution_count": null,
      "id": "4RZk97nUZ7K8",
      "metadata": {
        "colab": {
          "base_uri": "https://localhost:8080/",
          "height": 551
        },
        "id": "4RZk97nUZ7K8",
        "outputId": "14e8eb3e-0f14-46b3-f5c9-1ee23b88c411"
      },
      "outputs": [
        {
          "name": "stdout",
          "output_type": "stream",
          "text": [
            "Evaluating version 4 of model pandas test REGRESSION\n"
          ]
        },
        {
          "name": "stderr",
          "output_type": "stream",
          "text": [
            "INFO:google.cloud.aiplatform.model_evaluation.model_evaluation_job:Created PipelineJob for your Model Evaluation. View it in the console: https://console.cloud.google.com/vertex-ai/locations/us-central1/pipelines/runs/evaluation-regression-pipeline-20250316190509?project=679926387543\n",
            "INFO:google.cloud.aiplatform.pipeline_jobs:PipelineJob projects/679926387543/locations/us-central1/pipelineJobs/evaluation-regression-pipeline-20250316190509 current state:\n",
            "PipelineState.PIPELINE_STATE_RUNNING\n",
            "INFO:google.cloud.aiplatform.pipeline_jobs:PipelineJob projects/679926387543/locations/us-central1/pipelineJobs/evaluation-regression-pipeline-20250316190509 current state:\n",
            "PipelineState.PIPELINE_STATE_RUNNING\n",
            "INFO:google.cloud.aiplatform.pipeline_jobs:PipelineJob projects/679926387543/locations/us-central1/pipelineJobs/evaluation-regression-pipeline-20250316190509 current state:\n",
            "PipelineState.PIPELINE_STATE_RUNNING\n",
            "INFO:google.cloud.aiplatform.pipeline_jobs:PipelineJob projects/679926387543/locations/us-central1/pipelineJobs/evaluation-regression-pipeline-20250316190509 current state:\n",
            "PipelineState.PIPELINE_STATE_RUNNING\n",
            "INFO:google.cloud.aiplatform.pipeline_jobs:PipelineJob projects/679926387543/locations/us-central1/pipelineJobs/evaluation-regression-pipeline-20250316190509 current state:\n",
            "PipelineState.PIPELINE_STATE_RUNNING\n",
            "INFO:google.cloud.aiplatform.pipeline_jobs:PipelineJob projects/679926387543/locations/us-central1/pipelineJobs/evaluation-regression-pipeline-20250316190509 current state:\n",
            "PipelineState.PIPELINE_STATE_RUNNING\n",
            "INFO:google.cloud.aiplatform.pipeline_jobs:PipelineJob projects/679926387543/locations/us-central1/pipelineJobs/evaluation-regression-pipeline-20250316190509 current state:\n",
            "PipelineState.PIPELINE_STATE_RUNNING\n",
            "INFO:google.cloud.aiplatform.pipeline_jobs:PipelineJob projects/679926387543/locations/us-central1/pipelineJobs/evaluation-regression-pipeline-20250316190509 current state:\n",
            "PipelineState.PIPELINE_STATE_RUNNING\n",
            "INFO:google.cloud.aiplatform.pipeline_jobs:PipelineJob projects/679926387543/locations/us-central1/pipelineJobs/evaluation-regression-pipeline-20250316190509 current state:\n",
            "PipelineState.PIPELINE_STATE_RUNNING\n",
            "INFO:google.cloud.aiplatform.pipeline_jobs:PipelineJob projects/679926387543/locations/us-central1/pipelineJobs/evaluation-regression-pipeline-20250316190509 current state:\n",
            "PipelineState.PIPELINE_STATE_RUNNING\n",
            "INFO:google.cloud.aiplatform.pipeline_jobs:PipelineJob run completed. Resource name: projects/679926387543/locations/us-central1/pipelineJobs/evaluation-regression-pipeline-20250316190509\n"
          ]
        },
        {
          "data": {
            "text/html": [
              "\n",
              "        \n",
              "    <link rel=\"stylesheet\" href=\"https://fonts.googleapis.com/icon?family=Material+Icons\">\n",
              "    <style>\n",
              "      .view-vertex-resource,\n",
              "      .view-vertex-resource:hover,\n",
              "      .view-vertex-resource:visited {\n",
              "        position: relative;\n",
              "        display: inline-flex;\n",
              "        flex-direction: row;\n",
              "        height: 32px;\n",
              "        padding: 0 12px;\n",
              "          margin: 4px 18px;\n",
              "        gap: 4px;\n",
              "        border-radius: 4px;\n",
              "\n",
              "        align-items: center;\n",
              "        justify-content: center;\n",
              "        background-color: rgb(255, 255, 255);\n",
              "        color: rgb(51, 103, 214);\n",
              "\n",
              "        font-family: Roboto,\"Helvetica Neue\",sans-serif;\n",
              "        font-size: 13px;\n",
              "        font-weight: 500;\n",
              "        text-transform: uppercase;\n",
              "        text-decoration: none !important;\n",
              "\n",
              "        transition: box-shadow 280ms cubic-bezier(0.4, 0, 0.2, 1) 0s;\n",
              "        box-shadow: 0px 3px 1px -2px rgba(0,0,0,0.2), 0px 2px 2px 0px rgba(0,0,0,0.14), 0px 1px 5px 0px rgba(0,0,0,0.12);\n",
              "      }\n",
              "      .view-vertex-resource:active {\n",
              "        box-shadow: 0px 5px 5px -3px rgba(0,0,0,0.2),0px 8px 10px 1px rgba(0,0,0,0.14),0px 3px 14px 2px rgba(0,0,0,0.12);\n",
              "      }\n",
              "      .view-vertex-resource:active .view-vertex-ripple::before {\n",
              "        position: absolute;\n",
              "        top: 0;\n",
              "        bottom: 0;\n",
              "        left: 0;\n",
              "        right: 0;\n",
              "        border-radius: 4px;\n",
              "        pointer-events: none;\n",
              "\n",
              "        content: '';\n",
              "        background-color: rgb(51, 103, 214);\n",
              "        opacity: 0.12;\n",
              "      }\n",
              "      .view-vertex-icon {\n",
              "        font-size: 18px;\n",
              "      }\n",
              "    </style>\n",
              "  \n",
              "        <a class=\"view-vertex-resource\" id=\"view-vertex-resource-5b3fc0ea-e079-4f21-a6ff-e31eba30e767\" href=\"#view-view-vertex-resource-5b3fc0ea-e079-4f21-a6ff-e31eba30e767\">\n",
              "          <span class=\"material-icons view-vertex-icon\">lightbulb</span>\n",
              "          <span>View Model Evaluation</span>\n",
              "        </a>\n",
              "        \n",
              "        <script>\n",
              "          (function () {\n",
              "            const link = document.getElementById('view-vertex-resource-5b3fc0ea-e079-4f21-a6ff-e31eba30e767');\n",
              "            link.addEventListener('click', (e) => {\n",
              "              if (window.google?.colab?.openUrl) {\n",
              "                window.google.colab.openUrl('https://console.cloud.google.com/vertex-ai/models/locations/us-central1/models/659756454688849920/versions/4/evaluations/3476702578722414276?project=679926387543');\n",
              "              } else {\n",
              "                window.open('https://console.cloud.google.com/vertex-ai/models/locations/us-central1/models/659756454688849920/versions/4/evaluations/3476702578722414276?project=679926387543', '_blank');\n",
              "              }\n",
              "              e.stopPropagation();\n",
              "              e.preventDefault();\n",
              "            });\n",
              "          })();\n",
              "        </script>\n",
              "    "
            ],
            "text/plain": [
              "<IPython.core.display.HTML object>"
            ]
          },
          "metadata": {},
          "output_type": "display_data"
        },
        {
          "data": {
            "text/html": [
              "\n",
              "        \n",
              "    <link rel=\"stylesheet\" href=\"https://fonts.googleapis.com/icon?family=Material+Icons\">\n",
              "    <style>\n",
              "      .view-vertex-resource,\n",
              "      .view-vertex-resource:hover,\n",
              "      .view-vertex-resource:visited {\n",
              "        position: relative;\n",
              "        display: inline-flex;\n",
              "        flex-direction: row;\n",
              "        height: 32px;\n",
              "        padding: 0 12px;\n",
              "          margin: 4px 18px;\n",
              "        gap: 4px;\n",
              "        border-radius: 4px;\n",
              "\n",
              "        align-items: center;\n",
              "        justify-content: center;\n",
              "        background-color: rgb(255, 255, 255);\n",
              "        color: rgb(51, 103, 214);\n",
              "\n",
              "        font-family: Roboto,\"Helvetica Neue\",sans-serif;\n",
              "        font-size: 13px;\n",
              "        font-weight: 500;\n",
              "        text-transform: uppercase;\n",
              "        text-decoration: none !important;\n",
              "\n",
              "        transition: box-shadow 280ms cubic-bezier(0.4, 0, 0.2, 1) 0s;\n",
              "        box-shadow: 0px 3px 1px -2px rgba(0,0,0,0.2), 0px 2px 2px 0px rgba(0,0,0,0.14), 0px 1px 5px 0px rgba(0,0,0,0.12);\n",
              "      }\n",
              "      .view-vertex-resource:active {\n",
              "        box-shadow: 0px 5px 5px -3px rgba(0,0,0,0.2),0px 8px 10px 1px rgba(0,0,0,0.14),0px 3px 14px 2px rgba(0,0,0,0.12);\n",
              "      }\n",
              "      .view-vertex-resource:active .view-vertex-ripple::before {\n",
              "        position: absolute;\n",
              "        top: 0;\n",
              "        bottom: 0;\n",
              "        left: 0;\n",
              "        right: 0;\n",
              "        border-radius: 4px;\n",
              "        pointer-events: none;\n",
              "\n",
              "        content: '';\n",
              "        background-color: rgb(51, 103, 214);\n",
              "        opacity: 0.12;\n",
              "      }\n",
              "      .view-vertex-icon {\n",
              "        font-size: 18px;\n",
              "      }\n",
              "    </style>\n",
              "  \n",
              "        <a class=\"view-vertex-resource\" id=\"view-vertex-resource-638b3db9-8b09-4338-9db5-4c9488c72edb\" href=\"#view-view-vertex-resource-638b3db9-8b09-4338-9db5-4c9488c72edb\">\n",
              "          <span class=\"material-icons view-vertex-icon\">lightbulb</span>\n",
              "          <span>View Model Evaluation</span>\n",
              "        </a>\n",
              "        \n",
              "        <script>\n",
              "          (function () {\n",
              "            const link = document.getElementById('view-vertex-resource-638b3db9-8b09-4338-9db5-4c9488c72edb');\n",
              "            link.addEventListener('click', (e) => {\n",
              "              if (window.google?.colab?.openUrl) {\n",
              "                window.google.colab.openUrl('https://console.cloud.google.com/vertex-ai/models/locations/us-central1/models/659756454688849920/versions/4/evaluations/3476702578722414276?project=679926387543');\n",
              "              } else {\n",
              "                window.open('https://console.cloud.google.com/vertex-ai/models/locations/us-central1/models/659756454688849920/versions/4/evaluations/3476702578722414276?project=679926387543', '_blank');\n",
              "              }\n",
              "              e.stopPropagation();\n",
              "              e.preventDefault();\n",
              "            });\n",
              "          })();\n",
              "        </script>\n",
              "    "
            ],
            "text/plain": [
              "<IPython.core.display.HTML object>"
            ]
          },
          "metadata": {},
          "output_type": "display_data"
        },
        {
          "name": "stdout",
          "output_type": "stream",
          "text": [
            "Evaluation results: <google.cloud.aiplatform.model_evaluation.model_evaluation.ModelEvaluation object at 0x7e71983d14b0> \n",
            "resource name: projects/679926387543/locations/us-central1/models/659756454688849920@4/evaluations/3476702578722414276\n"
          ]
        }
      ],
      "source": [
        "model_id = model.resource_name.split(\"/\")[-1].split(\"@\")[0]\n",
        "version_id = versions[3].version_id\n",
        "print(f\"Evaluating version {version_id} of model {model_display_name}\")\n",
        "model_version = aiplatform.Model(model_name=f\"{model_id}@{version_id}\")\n",
        "# Run evaluation on model_version\n",
        "\n",
        "evaluation_job = model_version.evaluate(\n",
        "    prediction_type=\"regression\",\n",
        "    bigquery_source_uri=f\"bq://{PROJECT_ID}.TEST.regresssion_eval\",\n",
        "    target_field_name=\"label\",\n",
        "    enable_caching=True,\n",
        "    bigquery_destination_output_uri=f\"bq://{PROJECT_ID}.TEST.regresssion_eval_ouputs\",\n",
        ")\n",
        "evaluation_job.wait()\n",
        "my_evaluation = evaluation_job.get_model_evaluation()\n",
        "#  my_evaluation.metrics\n",
        "print(f\"Evaluation results: {my_evaluation}\")"
      ]
    },
    {
      "cell_type": "markdown",
      "id": "-5VI5ae7g5HK",
      "metadata": {
        "id": "-5VI5ae7g5HK"
      },
      "source": [
        "## 4. Compare Evaluation Results\n",
        "\n",
        "After running evaluations for each model version, you can pull down the results and compare them using any method you like (e.g., print, pandas dataframe, etc.)."
      ]
    },
    {
      "cell_type": "code",
      "execution_count": 39,
      "id": "BovEIZlFraZi",
      "metadata": {
        "colab": {
          "base_uri": "https://localhost:8080/"
        },
        "id": "BovEIZlFraZi",
        "outputId": "6489b40d-b068-49e8-d55e-0ca10119b350"
      },
      "outputs": [
        {
          "data": {
            "text/plain": [
              "{'name': 'projects/679926387543/locations/us-central1/models/659756454688849920@4/evaluations/3476702578722414276',\n",
              " 'metricsSchemaUri': 'gs://google-cloud-aiplatform/schema/modelevaluation/regression_metrics_1.0.0.yaml',\n",
              " 'metrics': {'rootMeanSquaredError': 63.65171,\n",
              "  'meanAbsoluteError': 60.221893,\n",
              "  'meanAbsolutePercentageError': 22238.256,\n",
              "  'rSquared': 0.0004635888,\n",
              "  'rootMeanSquaredLogError': 0.45935687},\n",
              " 'createTime': '2025-03-16T19:34:32.543586Z',\n",
              " 'displayName': 'evaluation-automl-unstructured-data-pipeline-8103915405589872640',\n",
              " 'metadata': {'pipeline_job_resource_name': 'projects/679926387543/locations/us-central1/pipelineJobs/evaluation-regression-pipeline-20250316190509',\n",
              "  'pipeline_job_id': '8103915405589872640',\n",
              "  'evaluation_dataset_type': 'bigquery',\n",
              "  'evaluation_dataset_path': ['bq://wortz-project-352116.TEST.regresssion_eval']}}"
            ]
          },
          "execution_count": 39,
          "metadata": {},
          "output_type": "execute_result"
        }
      ],
      "source": [
        "metric_values = my_evaluation.to_dict()\n",
        "metric_values"
      ]
    },
    {
      "cell_type": "markdown",
      "id": "HFOSZEEeq4tJ",
      "metadata": {
        "id": "HFOSZEEeq4tJ"
      },
      "source": []
    }
  ],
  "metadata": {
    "colab": {
      "name": "Versioning and Evaluations with Vertex",
      "provenance": []
    },
    "kernelspec": {
      "display_name": "Python 3",
      "language": "python",
      "name": "python3"
    },
    "language_info": {
      "codemirror_mode": {
        "name": "ipython",
        "version": 3
      },
      "file_extension": ".py",
      "mimetype": "text/x-python",
      "name": "python",
      "nbconvert_exporter": "python",
      "pygments_lexer": "ipython3",
      "version": "3.10.10"
    }
  },
  "nbformat": 4,
  "nbformat_minor": 5
}
