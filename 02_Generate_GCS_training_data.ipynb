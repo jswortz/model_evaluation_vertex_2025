{
 "cells": [
  {
   "cell_type": "markdown",
   "id": "7d00f888",
   "metadata": {},
   "source": [
    "# Generate a large set of rows and upload to gcs"
   ]
  },
  {
   "cell_type": "code",
   "execution_count": 2,
   "id": "4e9136a6",
   "metadata": {},
   "outputs": [
    {
     "name": "stdout",
     "output_type": "stream",
     "text": [
      "Creating gs://model_experimentation_2025/...\n"
     ]
    }
   ],
   "source": [
    "BUCKET = 'model_experimentation_2025'\n",
    "REGION = 'us-central1' \n",
    "\n",
    "! gsutil mb -l $REGION gs://$BUCKET"
   ]
  },
  {
   "cell_type": "code",
   "execution_count": 8,
   "id": "0dba16c7",
   "metadata": {},
   "outputs": [],
   "source": [
    "import numpy as np\n",
    "import pandas as pd\n",
    "from google.cloud import storage\n",
    "\n",
    "def generate_random_data(num_samples):\n",
    "    \"\"\"\n",
    "    Generates a pandas dataframe for the test model.\n",
    "    \"\"\"\n",
    "    x = np.random.normal(0.0, 1.0, size=(num_samples, 3))\n",
    "    df = pd.DataFrame(\n",
    "        x,\n",
    "        columns=[\"col1\", \"col2\", \"col3\"],\n",
    "        dtype=\"float64\",\n",
    "    )\n",
    "    return df\n",
    "\n",
    "\n",
    "def upload_csv_file_to_gcs(bucket_name: str, source_file_name: str, destination_blob_name: str):\n",
    "    \"\"\"Uploads a local CSV file to the GCS bucket.\"\"\"\n",
    "    # Instantiates a client\n",
    "    storage_client = storage.Client()\n",
    "\n",
    "    # Get the bucket\n",
    "    bucket = storage_client.bucket(bucket_name)\n",
    "\n",
    "    # Create a new blob and upload the file's content.\n",
    "    blob = bucket.blob(destination_blob_name)\n",
    "\n",
    "    # Upload the local file\n",
    "    blob.upload_from_filename(source_file_name, content_type='text/csv')\n",
    "\n",
    "    print(\n",
    "        f\"File {source_file_name} uploaded to gs://{bucket_name}/{destination_blob_name}.\"\n",
    "    )"
   ]
  },
  {
   "cell_type": "code",
   "execution_count": 9,
   "id": "7e58382a",
   "metadata": {},
   "outputs": [],
   "source": [
    "random_training_df = generate_random_data(100_000)"
   ]
  },
  {
   "cell_type": "code",
   "execution_count": 10,
   "id": "c0b43186",
   "metadata": {},
   "outputs": [
    {
     "data": {
      "text/html": [
       "<div>\n",
       "<style scoped>\n",
       "    .dataframe tbody tr th:only-of-type {\n",
       "        vertical-align: middle;\n",
       "    }\n",
       "\n",
       "    .dataframe tbody tr th {\n",
       "        vertical-align: top;\n",
       "    }\n",
       "\n",
       "    .dataframe thead th {\n",
       "        text-align: right;\n",
       "    }\n",
       "</style>\n",
       "<table border=\"1\" class=\"dataframe\">\n",
       "  <thead>\n",
       "    <tr style=\"text-align: right;\">\n",
       "      <th></th>\n",
       "      <th>col1</th>\n",
       "      <th>col2</th>\n",
       "      <th>col3</th>\n",
       "    </tr>\n",
       "  </thead>\n",
       "  <tbody>\n",
       "    <tr>\n",
       "      <th>0</th>\n",
       "      <td>2.071094</td>\n",
       "      <td>0.356696</td>\n",
       "      <td>1.267315</td>\n",
       "    </tr>\n",
       "    <tr>\n",
       "      <th>1</th>\n",
       "      <td>0.885052</td>\n",
       "      <td>1.821395</td>\n",
       "      <td>-0.597404</td>\n",
       "    </tr>\n",
       "    <tr>\n",
       "      <th>2</th>\n",
       "      <td>-1.179673</td>\n",
       "      <td>0.920685</td>\n",
       "      <td>-1.610942</td>\n",
       "    </tr>\n",
       "    <tr>\n",
       "      <th>3</th>\n",
       "      <td>0.861493</td>\n",
       "      <td>1.235437</td>\n",
       "      <td>1.485277</td>\n",
       "    </tr>\n",
       "    <tr>\n",
       "      <th>4</th>\n",
       "      <td>0.126781</td>\n",
       "      <td>-0.345680</td>\n",
       "      <td>-0.392108</td>\n",
       "    </tr>\n",
       "  </tbody>\n",
       "</table>\n",
       "</div>"
      ],
      "text/plain": [
       "       col1      col2      col3\n",
       "0  2.071094  0.356696  1.267315\n",
       "1  0.885052  1.821395 -0.597404\n",
       "2 -1.179673  0.920685 -1.610942\n",
       "3  0.861493  1.235437  1.485277\n",
       "4  0.126781 -0.345680 -0.392108"
      ]
     },
     "execution_count": 10,
     "metadata": {},
     "output_type": "execute_result"
    }
   ],
   "source": [
    "random_training_df.head()"
   ]
  },
  {
   "cell_type": "code",
   "execution_count": null,
   "id": "d5dd36e9",
   "metadata": {},
   "outputs": [
    {
     "name": "stdout",
     "output_type": "stream",
     "text": [
      "File example_training.csv uploaded to gs://model_experimentation_2025/example_training.csv.\n"
     ]
    }
   ],
   "source": [
    "file_name = 'example_training.csv'\n",
    "random_training_df.to_csv(file_name, index=False, header=True) \n",
    "#upload to gcs\n",
    "upload_csv_file_to_gcs(BUCKET, file_name, file_name)"
   ]
  }
 ],
 "metadata": {
  "kernelspec": {
   "display_name": ".venv",
   "language": "python",
   "name": "python3"
  },
  "language_info": {
   "codemirror_mode": {
    "name": "ipython",
    "version": 3
   },
   "file_extension": ".py",
   "mimetype": "text/x-python",
   "name": "python",
   "nbconvert_exporter": "python",
   "pygments_lexer": "ipython3",
   "version": "3.12.2"
  }
 },
 "nbformat": 4,
 "nbformat_minor": 5
}
