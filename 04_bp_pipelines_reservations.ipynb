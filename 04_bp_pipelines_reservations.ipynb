{
 "cells": [
  {
   "cell_type": "markdown",
   "id": "12818355",
   "metadata": {},
   "source": [
    "# Batch Prediction Pipeline Workaround for Reservations\n",
    "\n",
    "Reference docs: https://google-cloud-pipeline-components.readthedocs.io/en/google-cloud-pipeline-components-2.20.0/ \n",
    "\n",
    "\n",
    "This is a sample, some parameters may differ base on your implementation"
   ]
  },
  {
   "cell_type": "markdown",
   "id": "3324cd9b",
   "metadata": {},
   "source": [
    "## Create custom component that deploys a model to with a GPU reservation"
   ]
  },
  {
   "cell_type": "code",
   "execution_count": null,
   "id": "3bb5622d",
   "metadata": {},
   "outputs": [
    {
     "name": "stderr",
     "output_type": "stream",
     "text": [
      "/Users/jwortz/model_evaluation/.venv/lib/python3.12/site-packages/kfp/dsl/component_decorator.py:126: FutureWarning: The default base_image used by the @dsl.component decorator will switch from 'python:3.9' to 'python:3.10' on Oct 1, 2025. To ensure your existing components work with versions of the KFP SDK released after that date, you should provide an explicit base_image argument and ensure your component works as intended on Python 3.10.\n",
      "  return component_factory.create_component_from_func(\n"
     ]
    }
   ],
   "source": [
    "import kfp\n",
    "from kfp import dsl\n",
    "from kfp.dsl import (\n",
    "    Input,\n",
    "    Output,\n",
    ")  # Common artifact types\n",
    "from google_cloud_pipeline_components.types.artifact_types import (\n",
    "    VertexEndpoint,\n",
    "    VertexModel,\n",
    ")\n",
    "\n",
    "\n",
    "@dsl.component(\n",
    "    base_image=\"python:3.11\",\n",
    "    packages_to_install=[\"google-cloud-aiplatform\", \"google-cloud-pipeline-components\"]\n",
    ")\n",
    "def create_endpoint_with_reservation(\n",
    "    endpoint: Input[VertexEndpoint],\n",
    "    model: str,\n",
    "    deployed_name: str,\n",
    "    machine_type: str,\n",
    "    accelerator_type: str,\n",
    "    accelerator_count: int,\n",
    "    reservation_zone: str,\n",
    "    project_id: str,\n",
    "    reservation_name: str,\n",
    "    min_replica: int,\n",
    "    max_replica: int,\n",
    "    location: str,\n",
    "    deployed_endpoint: Output[VertexEndpoint],\n",
    "    deployed_model: Output[VertexModel],\n",
    ") -> dict:\n",
    "    from google_cloud_pipeline_components.types.artifact_types import (\n",
    "        VertexModel,\n",
    "    )\n",
    "    from google.cloud import aiplatform\n",
    "\n",
    "    aiplatform.init(\n",
    "        project=project_id,\n",
    "        location=location,\n",
    "    )\n",
    "\n",
    "    endpoint_fqn = endpoint.uri.split(\"v1/\")[1]\n",
    "    model_fqn = f\"projects/{project_id}/locations/{location}/models/{model}\"\n",
    "    vertex_endpoint = aiplatform.Endpoint(endpoint_fqn)\n",
    "    vertex_model = aiplatform.Model(model_name=model_fqn)\n",
    "\n",
    "    vertex_endpoint.deploy(\n",
    "        model=vertex_model,\n",
    "        deployed_model_display_name=deployed_name,\n",
    "        machine_type=machine_type,\n",
    "        accelerator_type=accelerator_type,\n",
    "        accelerator_count=accelerator_count,\n",
    "        reservation_affinity_type=\"SPECIFIC_RESERVATION\",\n",
    "        reservation_affinity_key=\"compute.googleapis.com/reservation-name\",\n",
    "        reservation_affinity_values=[\n",
    "            f\"projects/{project_id}/zones/{reservation_zone}/reservations/{reservation_name}\"\n",
    "        ],\n",
    "        min_replica_count=min_replica,\n",
    "        max_replica_count=max_replica,\n",
    "        sync=True,\n",
    "    )\n",
    "    return {\n",
    "        \"deployed_endpoint\": endpoint,\n",
    "        \"deployed_model\": VertexModel(model_resource_name=model),\n",
    "    }"
   ]
  },
  {
   "cell_type": "code",
   "execution_count": 18,
   "id": "57daab8b",
   "metadata": {},
   "outputs": [
    {
     "name": "stdout",
     "output_type": "stream",
     "text": [
      "Updated IAM policy for reservation [a100-custom-image-reservation].\n",
      "bindings:\n",
      "- members:\n",
      "  - serviceAccount:vertex-sa@wortz-project-352116.iam.gserviceaccount.com\n",
      "  role: roles/compute.admin\n",
      "- members:\n",
      "  - serviceAccount:vertex-sa@wortz-project-352116.iam.gserviceaccount.com\n",
      "  role: roles/compute.futureReservationAdmin\n",
      "- members:\n",
      "  - serviceAccount:vertex-sa@wortz-project-352116.iam.gserviceaccount.com\n",
      "  role: roles/compute.instanceAdmin\n",
      "- members:\n",
      "  - serviceAccount:679926387543-compute@developer.gserviceaccount.com\n",
      "  - serviceAccount:service-679926387543@gcp-sa-aiplatform.iam.gserviceaccount.com\n",
      "  - serviceAccount:vertex-sa@wortz-project-352116.iam.gserviceaccount.com\n",
      "  role: roles/compute.viewer\n",
      "etag: BwY2nVJOxlc=\n",
      "version: 1\n"
     ]
    }
   ],
   "source": [
    "#### Bind SA to the reservation\n",
    "PROJECT_NUMBER = 679926387543\n",
    "\n",
    "! gcloud compute reservations add-iam-policy-binding \\\n",
    "    a100-custom-image-reservation \\\n",
    "    --zone=us-central1-b \\\n",
    "    --member=\"serviceAccount:service-$PROJECT_NUMBER@gcp-sa-aiplatform.iam.gserviceaccount.com\" \\\n",
    "    --role=\"roles/compute.viewer\" \\\n",
    "    --project=wortz-project-352116"
   ]
  },
  {
   "cell_type": "code",
   "execution_count": 23,
   "id": "bca9209d",
   "metadata": {},
   "outputs": [],
   "source": [
    "from kfp import dsl\n",
    "from google_cloud_pipeline_components.v1.model import ModelUploadOp\n",
    "from google_cloud_pipeline_components.v1.endpoint import (\n",
    "    EndpointCreateOp,\n",
    "    EndpointDeleteOp,\n",
    "    ModelUndeployOp,\n",
    ")\n",
    "\n",
    "bucket = (\"model_experimentation_2025\",)\n",
    "\n",
    "\n",
    "@dsl.pipeline(\n",
    "    name=\"deploy-model-with-reserved-gpu\",\n",
    "    description=\"Deploys a model to an endpoint using a reserved GPU.\",\n",
    "    # pipeline_root=f\"gs://{bucket}/pipeline_root\",\n",
    ")\n",
    "def deploy_model_pipeline(\n",
    "    project_id: str,\n",
    "    model: str,\n",
    "    region: str,\n",
    "    shared_project_id: str,\n",
    "    zone: str,\n",
    "    reservation_name: str,\n",
    "    endpoint_display_name: str,\n",
    "    deployed_model_display_name: str,\n",
    "    machine_type: str,\n",
    "    accelerator_type: str,\n",
    "):\n",
    "\n",
    "    # 1. Create an endpoint\n",
    "    create_endpoint_task = EndpointCreateOp(\n",
    "        project=project_id,\n",
    "        location=region,\n",
    "        display_name=endpoint_display_name,\n",
    "    )\n",
    "\n",
    "    # 2. Deploy the model to the endpoint with reserved GPU\n",
    "    model_deploy_op = create_endpoint_with_reservation(\n",
    "        endpoint=create_endpoint_task.outputs[\"endpoint\"],\n",
    "        model=model,\n",
    "        location=region,\n",
    "        deployed_name=deployed_model_display_name,\n",
    "        machine_type=machine_type,\n",
    "        accelerator_type=accelerator_type,\n",
    "        accelerator_count=1,\n",
    "        reservation_zone=zone,\n",
    "        project_id=shared_project_id,\n",
    "        reservation_name=reservation_name,\n",
    "        min_replica=1,\n",
    "        max_replica=2,\n",
    "    )\n",
    "    # 3. TODO: Implement prediction job here via custom component\n",
    "\n",
    "    # 4. Teardown of resources post-prediction\n",
    "    model_undeploy_op = ModelUndeployOp(\n",
    "        endpoint=model_deploy_op.outputs[\"deployed_endpoint\"],\n",
    "        model=model_deploy_op.outputs[\"deployed_model\"],\n",
    "        # traffic_split={\"0\": 100} # Optional: to ensure all traffic is removed from this model_id\n",
    "        # If this is the only model, it will be removed.\n",
    "    )\n",
    "\n",
    "    delete_endpoint_op = EndpointDeleteOp(\n",
    "        endpoint=model_deploy_op.outputs[\n",
    "            \"deployed_endpoint\"\n",
    "        ],  # Use the same endpoint from deploy op\n",
    "    )\n",
    "    delete_endpoint_op.after(model_undeploy_op)  # Explicitly set dependency"
   ]
  },
  {
   "cell_type": "markdown",
   "id": "5482b06f",
   "metadata": {},
   "source": [
    "## Compile the pipeline"
   ]
  },
  {
   "cell_type": "code",
   "execution_count": 24,
   "id": "2f332a4d",
   "metadata": {},
   "outputs": [],
   "source": [
    "kfp.compiler.Compiler().compile(\n",
    "    pipeline_func=deploy_model_pipeline,\n",
    "    package_path=\"predict_w_reservations.json\",\n",
    ")"
   ]
  },
  {
   "cell_type": "code",
   "execution_count": 25,
   "id": "a9df8a49",
   "metadata": {},
   "outputs": [],
   "source": [
    "# Replace with your project ID, region, etc.\n",
    "pipeline_params = dict(\n",
    "    project_id=\"wortz-project-352116\",\n",
    "    model=\"3416616934593003520\",\n",
    "    region=\"us-central1\",\n",
    "    shared_project_id=\"wortz-project-352116\",\n",
    "    zone=\"us-central1-b\",\n",
    "    reservation_name=\"a100-custom-image-reservation\",\n",
    "    endpoint_display_name=\"Reservation_Endpoint\",\n",
    "    deployed_model_display_name=\"My_deployed_model\",\n",
    "    accelerator_type=\"NVIDIA_TESLA_A100\",\n",
    "    machine_type=\"a2-highgpu-1g\",\n",
    ")"
   ]
  },
  {
   "cell_type": "code",
   "execution_count": null,
   "id": "3e3bb29c",
   "metadata": {},
   "outputs": [],
   "source": [
    "from google import auth\n",
    "\n",
    "\n",
    "credentials, project = auth.default(\n",
    "    scopes=[\"https://www.googleapis.com/auth/cloud-platform\"]\n",
    ")"
   ]
  },
  {
   "cell_type": "code",
   "execution_count": 50,
   "id": "51dfa871",
   "metadata": {},
   "outputs": [],
   "source": [
    "CREDS = ! gcloud auth print-access-token"
   ]
  },
  {
   "cell_type": "code",
   "execution_count": null,
   "id": "e937c87b",
   "metadata": {},
   "outputs": [],
   "source": [
    "import google.oauth2.credentials\n",
    "\n",
    "credentials = google.oauth2.credentials.Credentials(CREDS[0])"
   ]
  },
  {
   "cell_type": "code",
   "execution_count": null,
   "id": "3e6654d3",
   "metadata": {},
   "outputs": [
    {
     "name": "stdout",
     "output_type": "stream",
     "text": [
      "Creating PipelineJob\n",
      "PipelineJob created. Resource name: projects/679926387543/locations/us-central1/pipelineJobs/deploy-model-with-reserved-gpu-20250602162032\n",
      "To use this PipelineJob in another session:\n",
      "pipeline_job = aiplatform.PipelineJob.get('projects/679926387543/locations/us-central1/pipelineJobs/deploy-model-with-reserved-gpu-20250602162032')\n",
      "View Pipeline Job:\n",
      "https://console.cloud.google.com/vertex-ai/locations/us-central1/pipelines/runs/deploy-model-with-reserved-gpu-20250602162032?project=679926387543\n"
     ]
    }
   ],
   "source": [
    "from google.cloud import aiplatform\n",
    "\n",
    "aiplatform.init(\n",
    "    project=pipeline_params[\"project_id\"],\n",
    "    location=pipeline_params[\"region\"],\n",
    "    # credentials=credentials,\n",
    "    service_account=\"vertex-sa@wortz-project-352116.iam.gserviceaccount.com\",\n",
    ")\n",
    "job = aiplatform.PipelineJob(\n",
    "    display_name=f\"Predictions with GPU Reservations\",\n",
    "    template_path=\"predict_w_reservations.json\",\n",
    "    # pipeline_root=f\"gs://{bucket}/pipeline_runs\",\n",
    "    parameter_values=pipeline_params,\n",
    "    project=pipeline_params[\"project_id\"],\n",
    "    location=pipeline_params[\"region\"],\n",
    "    enable_caching=True,\n",
    "    # credentials=credentials,\n",
    ")\n",
    "\n",
    "job.submit()"
   ]
  },
  {
   "cell_type": "code",
   "execution_count": null,
   "id": "0c7249b2",
   "metadata": {},
   "outputs": [],
   "source": [
    "#### WIP"
   ]
  },
  {
   "cell_type": "code",
   "execution_count": 1,
   "id": "7a9c005a",
   "metadata": {},
   "outputs": [],
   "source": [
    "# import json\n",
    "\n",
    "# one_sample = datasets[\"test\"].map(scale).take(1)\n",
    "# list_data = list(one_sample.as_numpy_iterator())\n",
    "# instances = {\"instances\": list_data[0][0].tolist()}\n",
    "# json_str = json.dumps(instances)\n",
    "# with open(\"data.json\", \"w\", encoding=\"utf-8\") as f:\n",
    "#     json.dump(json_str, f, ensure_ascii=False, indent=4)"
   ]
  },
  {
   "cell_type": "markdown",
   "id": "f4e7bb9a",
   "metadata": {},
   "source": [
    "# New Local Testing"
   ]
  },
  {
   "cell_type": "code",
   "execution_count": 14,
   "id": "743017f0",
   "metadata": {},
   "outputs": [],
   "source": [
    "def create_endpoint_with_reservation_local(\n",
    "    endpoint_uri: str,\n",
    "    model: str,\n",
    "    deployed_name: str,\n",
    "    machine_type: str,\n",
    "    accelerator_type: str,\n",
    "    accelerator_count: int,\n",
    "    reservation_zone: str,\n",
    "    project_id: str,\n",
    "    reservation_name: str,\n",
    "    min_replica: int,\n",
    "    max_replica: int,\n",
    "    location: str,\n",
    "    SA: str,\n",
    ") -> dict:\n",
    "    from google_cloud_pipeline_components.types.artifact_types import (\n",
    "        VertexModel,\n",
    "    )\n",
    "    from google.cloud import aiplatform\n",
    "\n",
    "    aiplatform.init(\n",
    "        project=project_id,\n",
    "        location=location,\n",
    "        service_account=SA,\n",
    "    )\n",
    "\n",
    "    endpoint_fqn = endpoint_uri.split(\"v1/\")[1]\n",
    "    model_fqn = f\"projects/{project_id}/locations/{location}/models/{model}\"\n",
    "    vertex_endpoint = aiplatform.Endpoint(endpoint_fqn)\n",
    "    vertex_model = aiplatform.Model(model_name=model_fqn)\n",
    "\n",
    "    vertex_endpoint.deploy(\n",
    "        model=vertex_model,\n",
    "        deployed_model_display_name=deployed_name,\n",
    "        machine_type=machine_type,\n",
    "        accelerator_type=accelerator_type,\n",
    "        accelerator_count=accelerator_count,\n",
    "        reservation_affinity_type=\"SPECIFIC_RESERVATION\",\n",
    "        reservation_affinity_key=\"compute.googleapis.com/reservation-name\",\n",
    "        reservation_affinity_values=[\n",
    "            f\"projects/{project_id}/zones/{reservation_zone}/reservations/{reservation_name}\"\n",
    "        ],\n",
    "        min_replica_count=min_replica,\n",
    "        max_replica_count=max_replica,\n",
    "        sync=True,\n",
    "        service_account=SA,\n",
    "    )\n",
    "    return {\n",
    "        \"deployed_endpoint\": vertex_endpoint,\n",
    "        \"deployed_model\": VertexModel(model_resource_name=model),\n",
    "    }"
   ]
  },
  {
   "cell_type": "code",
   "execution_count": 16,
   "id": "f821806b",
   "metadata": {},
   "outputs": [
    {
     "name": "stdout",
     "output_type": "stream",
     "text": [
      "Deploying Model projects/679926387543/locations/us-central1/models/3416616934593003520 to Endpoint : projects/679926387543/locations/us-central1/endpoints/2591835879202881536\n",
      "Deploy Endpoint model backing LRO: projects/679926387543/locations/us-central1/endpoints/2591835879202881536/operations/6421892653540966400\n"
     ]
    },
    {
     "ename": "KeyboardInterrupt",
     "evalue": "",
     "output_type": "error",
     "traceback": [
      "\u001b[31m---------------------------------------------------------------------------\u001b[39m",
      "\u001b[31m_OperationNotComplete\u001b[39m                     Traceback (most recent call last)",
      "\u001b[36mFile \u001b[39m\u001b[32m~/model_evaluation/.venv/lib/python3.12/site-packages/google/api_core/retry/retry_unary.py:144\u001b[39m, in \u001b[36mretry_target\u001b[39m\u001b[34m(target, predicate, sleep_generator, timeout, on_error, exception_factory, **kwargs)\u001b[39m\n\u001b[32m    143\u001b[39m \u001b[38;5;28;01mtry\u001b[39;00m:\n\u001b[32m--> \u001b[39m\u001b[32m144\u001b[39m     result = \u001b[43mtarget\u001b[49m\u001b[43m(\u001b[49m\u001b[43m)\u001b[49m\n\u001b[32m    145\u001b[39m     \u001b[38;5;28;01mif\u001b[39;00m inspect.isawaitable(result):\n",
      "\u001b[36mFile \u001b[39m\u001b[32m~/model_evaluation/.venv/lib/python3.12/site-packages/google/api_core/future/polling.py:120\u001b[39m, in \u001b[36mPollingFuture._done_or_raise\u001b[39m\u001b[34m(self, retry)\u001b[39m\n\u001b[32m    119\u001b[39m \u001b[38;5;28;01mif\u001b[39;00m \u001b[38;5;129;01mnot\u001b[39;00m \u001b[38;5;28mself\u001b[39m.done(retry=retry):\n\u001b[32m--> \u001b[39m\u001b[32m120\u001b[39m     \u001b[38;5;28;01mraise\u001b[39;00m _OperationNotComplete()\n",
      "\u001b[31m_OperationNotComplete\u001b[39m: ",
      "\nDuring handling of the above exception, another exception occurred:\n",
      "\u001b[31mKeyboardInterrupt\u001b[39m                         Traceback (most recent call last)",
      "\u001b[36mCell\u001b[39m\u001b[36m \u001b[39m\u001b[32mIn[16]\u001b[39m\u001b[32m, line 3\u001b[39m\n\u001b[32m      1\u001b[39m endpoint_uri = \u001b[33m'\u001b[39m\u001b[33mhttps://us-central1-aiplatform.googleapis.com/v1/projects/679926387543/locations/us-central1/endpoints/2591835879202881536\u001b[39m\u001b[33m'\u001b[39m\n\u001b[32m----> \u001b[39m\u001b[32m3\u001b[39m \u001b[43mcreate_endpoint_with_reservation_local\u001b[49m\u001b[43m(\u001b[49m\u001b[43mendpoint_uri\u001b[49m\u001b[43m=\u001b[49m\u001b[43mendpoint_uri\u001b[49m\u001b[43m,\u001b[49m\n\u001b[32m      4\u001b[39m \u001b[43m    \u001b[49m\u001b[43mmodel\u001b[49m\u001b[43m=\u001b[49m\u001b[43mpipeline_params\u001b[49m\u001b[43m[\u001b[49m\u001b[33;43m'\u001b[39;49m\u001b[33;43mmodel\u001b[39;49m\u001b[33;43m'\u001b[39;49m\u001b[43m]\u001b[49m\u001b[43m,\u001b[49m\n\u001b[32m      5\u001b[39m \u001b[43m    \u001b[49m\u001b[43mdeployed_name\u001b[49m\u001b[43m=\u001b[49m\u001b[43mpipeline_params\u001b[49m\u001b[43m[\u001b[49m\u001b[33;43m'\u001b[39;49m\u001b[33;43mdeployed_model_display_name\u001b[39;49m\u001b[33;43m'\u001b[39;49m\u001b[43m]\u001b[49m\u001b[43m,\u001b[49m\n\u001b[32m      6\u001b[39m \u001b[43m    \u001b[49m\u001b[43mmachine_type\u001b[49m\u001b[43m=\u001b[49m\u001b[43mpipeline_params\u001b[49m\u001b[43m[\u001b[49m\u001b[33;43m'\u001b[39;49m\u001b[33;43mmachine_type\u001b[39;49m\u001b[33;43m'\u001b[39;49m\u001b[43m]\u001b[49m\u001b[43m,\u001b[49m\n\u001b[32m      7\u001b[39m \u001b[43m    \u001b[49m\u001b[43maccelerator_type\u001b[49m\u001b[43m=\u001b[49m\u001b[43mpipeline_params\u001b[49m\u001b[43m[\u001b[49m\u001b[33;43m'\u001b[39;49m\u001b[33;43maccelerator_type\u001b[39;49m\u001b[33;43m'\u001b[39;49m\u001b[43m]\u001b[49m\u001b[43m,\u001b[49m\n\u001b[32m      8\u001b[39m \u001b[43m    \u001b[49m\u001b[43maccelerator_count\u001b[49m\u001b[43m=\u001b[49m\u001b[32;43m1\u001b[39;49m\u001b[43m,\u001b[49m\n\u001b[32m      9\u001b[39m \u001b[43m    \u001b[49m\u001b[43mreservation_zone\u001b[49m\u001b[43m=\u001b[49m\u001b[43mpipeline_params\u001b[49m\u001b[43m[\u001b[49m\u001b[33;43m'\u001b[39;49m\u001b[33;43mzone\u001b[39;49m\u001b[33;43m'\u001b[39;49m\u001b[43m]\u001b[49m\u001b[43m,\u001b[49m\n\u001b[32m     10\u001b[39m \u001b[43m    \u001b[49m\u001b[43mproject_id\u001b[49m\u001b[43m=\u001b[49m\u001b[43mpipeline_params\u001b[49m\u001b[43m[\u001b[49m\u001b[33;43m'\u001b[39;49m\u001b[33;43mproject_id\u001b[39;49m\u001b[33;43m'\u001b[39;49m\u001b[43m]\u001b[49m\u001b[43m,\u001b[49m\n\u001b[32m     11\u001b[39m \u001b[43m    \u001b[49m\u001b[43mreservation_name\u001b[49m\u001b[43m=\u001b[49m\u001b[43mpipeline_params\u001b[49m\u001b[43m[\u001b[49m\u001b[33;43m'\u001b[39;49m\u001b[33;43mreservation_name\u001b[39;49m\u001b[33;43m'\u001b[39;49m\u001b[43m]\u001b[49m\u001b[43m,\u001b[49m\n\u001b[32m     12\u001b[39m \u001b[43m    \u001b[49m\u001b[43mmin_replica\u001b[49m\u001b[43m=\u001b[49m\u001b[32;43m1\u001b[39;49m\u001b[43m,\u001b[49m\n\u001b[32m     13\u001b[39m \u001b[43m    \u001b[49m\u001b[43mmax_replica\u001b[49m\u001b[43m=\u001b[49m\u001b[32;43m2\u001b[39;49m\u001b[43m,\u001b[49m\n\u001b[32m     14\u001b[39m \u001b[43m    \u001b[49m\u001b[43mlocation\u001b[49m\u001b[43m=\u001b[49m\u001b[43mpipeline_params\u001b[49m\u001b[43m[\u001b[49m\u001b[33;43m'\u001b[39;49m\u001b[33;43mregion\u001b[39;49m\u001b[33;43m'\u001b[39;49m\u001b[43m]\u001b[49m\u001b[43m,\u001b[49m\n\u001b[32m     15\u001b[39m \u001b[43m    \u001b[49m\u001b[43mSA\u001b[49m\u001b[43m=\u001b[49m\u001b[33;43m'\u001b[39;49m\u001b[33;43mvertex-sa@wortz-project-352116.iam.gserviceaccount.com\u001b[39;49m\u001b[33;43m'\u001b[39;49m\u001b[43m)\u001b[49m\n",
      "\u001b[36mCell\u001b[39m\u001b[36m \u001b[39m\u001b[32mIn[14]\u001b[39m\u001b[32m, line 32\u001b[39m, in \u001b[36mcreate_endpoint_with_reservation_local\u001b[39m\u001b[34m(endpoint_uri, model, deployed_name, machine_type, accelerator_type, accelerator_count, reservation_zone, project_id, reservation_name, min_replica, max_replica, location, SA)\u001b[39m\n\u001b[32m     29\u001b[39m vertex_endpoint = aiplatform.Endpoint(endpoint_fqn)\n\u001b[32m     30\u001b[39m vertex_model = aiplatform.Model(model_name=model_fqn)\n\u001b[32m---> \u001b[39m\u001b[32m32\u001b[39m \u001b[43mvertex_endpoint\u001b[49m\u001b[43m.\u001b[49m\u001b[43mdeploy\u001b[49m\u001b[43m(\u001b[49m\n\u001b[32m     33\u001b[39m \u001b[43m    \u001b[49m\u001b[43mmodel\u001b[49m\u001b[43m=\u001b[49m\u001b[43mvertex_model\u001b[49m\u001b[43m,\u001b[49m\n\u001b[32m     34\u001b[39m \u001b[43m    \u001b[49m\u001b[43mdeployed_model_display_name\u001b[49m\u001b[43m=\u001b[49m\u001b[43mdeployed_name\u001b[49m\u001b[43m,\u001b[49m\n\u001b[32m     35\u001b[39m \u001b[43m    \u001b[49m\u001b[43mmachine_type\u001b[49m\u001b[43m=\u001b[49m\u001b[43mmachine_type\u001b[49m\u001b[43m,\u001b[49m\n\u001b[32m     36\u001b[39m \u001b[43m    \u001b[49m\u001b[43maccelerator_type\u001b[49m\u001b[43m=\u001b[49m\u001b[43maccelerator_type\u001b[49m\u001b[43m,\u001b[49m\n\u001b[32m     37\u001b[39m \u001b[43m    \u001b[49m\u001b[43maccelerator_count\u001b[49m\u001b[43m=\u001b[49m\u001b[43maccelerator_count\u001b[49m\u001b[43m,\u001b[49m\n\u001b[32m     38\u001b[39m \u001b[43m    \u001b[49m\u001b[43mreservation_affinity_type\u001b[49m\u001b[43m=\u001b[49m\u001b[33;43m\"\u001b[39;49m\u001b[33;43mSPECIFIC_RESERVATION\u001b[39;49m\u001b[33;43m\"\u001b[39;49m\u001b[43m,\u001b[49m\n\u001b[32m     39\u001b[39m \u001b[43m    \u001b[49m\u001b[43mreservation_affinity_key\u001b[49m\u001b[43m=\u001b[49m\u001b[33;43m\"\u001b[39;49m\u001b[33;43mcompute.googleapis.com/reservation-name\u001b[39;49m\u001b[33;43m\"\u001b[39;49m\u001b[43m,\u001b[49m\n\u001b[32m     40\u001b[39m \u001b[43m    \u001b[49m\u001b[43mreservation_affinity_values\u001b[49m\u001b[43m=\u001b[49m\u001b[43m[\u001b[49m\n\u001b[32m     41\u001b[39m \u001b[43m        \u001b[49m\u001b[33;43mf\u001b[39;49m\u001b[33;43m\"\u001b[39;49m\u001b[33;43mprojects/\u001b[39;49m\u001b[38;5;132;43;01m{\u001b[39;49;00m\u001b[43mproject_id\u001b[49m\u001b[38;5;132;43;01m}\u001b[39;49;00m\u001b[33;43m/zones/\u001b[39;49m\u001b[38;5;132;43;01m{\u001b[39;49;00m\u001b[43mreservation_zone\u001b[49m\u001b[38;5;132;43;01m}\u001b[39;49;00m\u001b[33;43m/reservations/\u001b[39;49m\u001b[38;5;132;43;01m{\u001b[39;49;00m\u001b[43mreservation_name\u001b[49m\u001b[38;5;132;43;01m}\u001b[39;49;00m\u001b[33;43m\"\u001b[39;49m\n\u001b[32m     42\u001b[39m \u001b[43m    \u001b[49m\u001b[43m]\u001b[49m\u001b[43m,\u001b[49m\n\u001b[32m     43\u001b[39m \u001b[43m    \u001b[49m\u001b[43mmin_replica_count\u001b[49m\u001b[43m=\u001b[49m\u001b[43mmin_replica\u001b[49m\u001b[43m,\u001b[49m\n\u001b[32m     44\u001b[39m \u001b[43m    \u001b[49m\u001b[43mmax_replica_count\u001b[49m\u001b[43m=\u001b[49m\u001b[43mmax_replica\u001b[49m\u001b[43m,\u001b[49m\n\u001b[32m     45\u001b[39m \u001b[43m    \u001b[49m\u001b[43msync\u001b[49m\u001b[43m=\u001b[49m\u001b[38;5;28;43;01mTrue\u001b[39;49;00m\u001b[43m,\u001b[49m\n\u001b[32m     46\u001b[39m \u001b[43m    \u001b[49m\u001b[43mservice_account\u001b[49m\u001b[43m=\u001b[49m\u001b[43mSA\u001b[49m\u001b[43m,\u001b[49m\n\u001b[32m     47\u001b[39m \u001b[43m\u001b[49m\u001b[43m)\u001b[49m\n\u001b[32m     48\u001b[39m \u001b[38;5;28;01mreturn\u001b[39;00m {\n\u001b[32m     49\u001b[39m     \u001b[33m\"\u001b[39m\u001b[33mdeployed_endpoint\u001b[39m\u001b[33m\"\u001b[39m: vertex_endpoint,\n\u001b[32m     50\u001b[39m     \u001b[33m\"\u001b[39m\u001b[33mdeployed_model\u001b[39m\u001b[33m\"\u001b[39m: VertexModel(model_resource_name=model),\n\u001b[32m     51\u001b[39m }\n",
      "\u001b[36mFile \u001b[39m\u001b[32m~/model_evaluation/.venv/lib/python3.12/site-packages/google/cloud/aiplatform/models.py:1518\u001b[39m, in \u001b[36mEndpoint.deploy\u001b[39m\u001b[34m(self, model, deployed_model_display_name, traffic_percentage, traffic_split, machine_type, min_replica_count, max_replica_count, accelerator_type, accelerator_count, tpu_topology, service_account, explanation_metadata, explanation_parameters, metadata, sync, deploy_request_timeout, autoscaling_target_cpu_utilization, autoscaling_target_accelerator_duty_cycle, enable_access_logging, disable_container_logging, deployment_resource_pool, reservation_affinity_type, reservation_affinity_key, reservation_affinity_values, spot, fast_tryout_enabled, system_labels, required_replica_count)\u001b[39m\n\u001b[32m   1502\u001b[39m \u001b[38;5;28mself\u001b[39m._validate_deploy_args(\n\u001b[32m   1503\u001b[39m     min_replica_count=min_replica_count,\n\u001b[32m   1504\u001b[39m     max_replica_count=max_replica_count,\n\u001b[32m   (...)\u001b[39m\u001b[32m   1510\u001b[39m     required_replica_count=required_replica_count,\n\u001b[32m   1511\u001b[39m )\n\u001b[32m   1513\u001b[39m explanation_spec = _explanation_utils.create_and_validate_explanation_spec(\n\u001b[32m   1514\u001b[39m     explanation_metadata=explanation_metadata,\n\u001b[32m   1515\u001b[39m     explanation_parameters=explanation_parameters,\n\u001b[32m   1516\u001b[39m )\n\u001b[32m-> \u001b[39m\u001b[32m1518\u001b[39m \u001b[38;5;28;43mself\u001b[39;49m\u001b[43m.\u001b[49m\u001b[43m_deploy\u001b[49m\u001b[43m(\u001b[49m\n\u001b[32m   1519\u001b[39m \u001b[43m    \u001b[49m\u001b[43mmodel\u001b[49m\u001b[43m=\u001b[49m\u001b[43mmodel\u001b[49m\u001b[43m,\u001b[49m\n\u001b[32m   1520\u001b[39m \u001b[43m    \u001b[49m\u001b[43mdeployed_model_display_name\u001b[49m\u001b[43m=\u001b[49m\u001b[43mdeployed_model_display_name\u001b[49m\u001b[43m,\u001b[49m\n\u001b[32m   1521\u001b[39m \u001b[43m    \u001b[49m\u001b[43mtraffic_percentage\u001b[49m\u001b[43m=\u001b[49m\u001b[43mtraffic_percentage\u001b[49m\u001b[43m,\u001b[49m\n\u001b[32m   1522\u001b[39m \u001b[43m    \u001b[49m\u001b[43mtraffic_split\u001b[49m\u001b[43m=\u001b[49m\u001b[43mtraffic_split\u001b[49m\u001b[43m,\u001b[49m\n\u001b[32m   1523\u001b[39m \u001b[43m    \u001b[49m\u001b[43mmachine_type\u001b[49m\u001b[43m=\u001b[49m\u001b[43mmachine_type\u001b[49m\u001b[43m,\u001b[49m\n\u001b[32m   1524\u001b[39m \u001b[43m    \u001b[49m\u001b[43mmin_replica_count\u001b[49m\u001b[43m=\u001b[49m\u001b[43mmin_replica_count\u001b[49m\u001b[43m,\u001b[49m\n\u001b[32m   1525\u001b[39m \u001b[43m    \u001b[49m\u001b[43mmax_replica_count\u001b[49m\u001b[43m=\u001b[49m\u001b[43mmax_replica_count\u001b[49m\u001b[43m,\u001b[49m\n\u001b[32m   1526\u001b[39m \u001b[43m    \u001b[49m\u001b[43maccelerator_type\u001b[49m\u001b[43m=\u001b[49m\u001b[43maccelerator_type\u001b[49m\u001b[43m,\u001b[49m\n\u001b[32m   1527\u001b[39m \u001b[43m    \u001b[49m\u001b[43maccelerator_count\u001b[49m\u001b[43m=\u001b[49m\u001b[43maccelerator_count\u001b[49m\u001b[43m,\u001b[49m\n\u001b[32m   1528\u001b[39m \u001b[43m    \u001b[49m\u001b[43mtpu_topology\u001b[49m\u001b[43m=\u001b[49m\u001b[43mtpu_topology\u001b[49m\u001b[43m,\u001b[49m\n\u001b[32m   1529\u001b[39m \u001b[43m    \u001b[49m\u001b[43mreservation_affinity_type\u001b[49m\u001b[43m=\u001b[49m\u001b[43mreservation_affinity_type\u001b[49m\u001b[43m,\u001b[49m\n\u001b[32m   1530\u001b[39m \u001b[43m    \u001b[49m\u001b[43mreservation_affinity_key\u001b[49m\u001b[43m=\u001b[49m\u001b[43mreservation_affinity_key\u001b[49m\u001b[43m,\u001b[49m\n\u001b[32m   1531\u001b[39m \u001b[43m    \u001b[49m\u001b[43mreservation_affinity_values\u001b[49m\u001b[43m=\u001b[49m\u001b[43mreservation_affinity_values\u001b[49m\u001b[43m,\u001b[49m\n\u001b[32m   1532\u001b[39m \u001b[43m    \u001b[49m\u001b[43mservice_account\u001b[49m\u001b[43m=\u001b[49m\u001b[43mservice_account\u001b[49m\u001b[43m,\u001b[49m\n\u001b[32m   1533\u001b[39m \u001b[43m    \u001b[49m\u001b[43mexplanation_spec\u001b[49m\u001b[43m=\u001b[49m\u001b[43mexplanation_spec\u001b[49m\u001b[43m,\u001b[49m\n\u001b[32m   1534\u001b[39m \u001b[43m    \u001b[49m\u001b[43mmetadata\u001b[49m\u001b[43m=\u001b[49m\u001b[43mmetadata\u001b[49m\u001b[43m,\u001b[49m\n\u001b[32m   1535\u001b[39m \u001b[43m    \u001b[49m\u001b[43msync\u001b[49m\u001b[43m=\u001b[49m\u001b[43msync\u001b[49m\u001b[43m,\u001b[49m\n\u001b[32m   1536\u001b[39m \u001b[43m    \u001b[49m\u001b[43mdeploy_request_timeout\u001b[49m\u001b[43m=\u001b[49m\u001b[43mdeploy_request_timeout\u001b[49m\u001b[43m,\u001b[49m\n\u001b[32m   1537\u001b[39m \u001b[43m    \u001b[49m\u001b[43mautoscaling_target_cpu_utilization\u001b[49m\u001b[43m=\u001b[49m\u001b[43mautoscaling_target_cpu_utilization\u001b[49m\u001b[43m,\u001b[49m\n\u001b[32m   1538\u001b[39m \u001b[43m    \u001b[49m\u001b[43mautoscaling_target_accelerator_duty_cycle\u001b[49m\u001b[43m=\u001b[49m\u001b[43mautoscaling_target_accelerator_duty_cycle\u001b[49m\u001b[43m,\u001b[49m\n\u001b[32m   1539\u001b[39m \u001b[43m    \u001b[49m\u001b[43mspot\u001b[49m\u001b[43m=\u001b[49m\u001b[43mspot\u001b[49m\u001b[43m,\u001b[49m\n\u001b[32m   1540\u001b[39m \u001b[43m    \u001b[49m\u001b[43menable_access_logging\u001b[49m\u001b[43m=\u001b[49m\u001b[43menable_access_logging\u001b[49m\u001b[43m,\u001b[49m\n\u001b[32m   1541\u001b[39m \u001b[43m    \u001b[49m\u001b[43mdisable_container_logging\u001b[49m\u001b[43m=\u001b[49m\u001b[43mdisable_container_logging\u001b[49m\u001b[43m,\u001b[49m\n\u001b[32m   1542\u001b[39m \u001b[43m    \u001b[49m\u001b[43mdeployment_resource_pool\u001b[49m\u001b[43m=\u001b[49m\u001b[43mdeployment_resource_pool\u001b[49m\u001b[43m,\u001b[49m\n\u001b[32m   1543\u001b[39m \u001b[43m    \u001b[49m\u001b[43mfast_tryout_enabled\u001b[49m\u001b[43m=\u001b[49m\u001b[43mfast_tryout_enabled\u001b[49m\u001b[43m,\u001b[49m\n\u001b[32m   1544\u001b[39m \u001b[43m    \u001b[49m\u001b[43msystem_labels\u001b[49m\u001b[43m=\u001b[49m\u001b[43msystem_labels\u001b[49m\u001b[43m,\u001b[49m\n\u001b[32m   1545\u001b[39m \u001b[43m    \u001b[49m\u001b[43mrequired_replica_count\u001b[49m\u001b[43m=\u001b[49m\u001b[43mrequired_replica_count\u001b[49m\u001b[43m,\u001b[49m\n\u001b[32m   1546\u001b[39m \u001b[43m\u001b[49m\u001b[43m)\u001b[49m\n",
      "\u001b[36mFile \u001b[39m\u001b[32m~/model_evaluation/.venv/lib/python3.12/site-packages/google/cloud/aiplatform/base.py:863\u001b[39m, in \u001b[36moptional_sync.<locals>.optional_run_in_thread.<locals>.wrapper\u001b[39m\u001b[34m(*args, **kwargs)\u001b[39m\n\u001b[32m    861\u001b[39m     \u001b[38;5;28;01mif\u001b[39;00m \u001b[38;5;28mself\u001b[39m:\n\u001b[32m    862\u001b[39m         VertexAiResourceNounWithFutureManager.wait(\u001b[38;5;28mself\u001b[39m)\n\u001b[32m--> \u001b[39m\u001b[32m863\u001b[39m     \u001b[38;5;28;01mreturn\u001b[39;00m \u001b[43mmethod\u001b[49m\u001b[43m(\u001b[49m\u001b[43m*\u001b[49m\u001b[43margs\u001b[49m\u001b[43m,\u001b[49m\u001b[43m \u001b[49m\u001b[43m*\u001b[49m\u001b[43m*\u001b[49m\u001b[43mkwargs\u001b[49m\u001b[43m)\u001b[49m\n\u001b[32m    865\u001b[39m \u001b[38;5;66;03m# callbacks to call within the Future (in same Thread)\u001b[39;00m\n\u001b[32m    866\u001b[39m internal_callbacks = []\n",
      "\u001b[36mFile \u001b[39m\u001b[32m~/model_evaluation/.venv/lib/python3.12/site-packages/google/cloud/aiplatform/models.py:1700\u001b[39m, in \u001b[36mEndpoint._deploy\u001b[39m\u001b[34m(self, model, deployed_model_display_name, traffic_percentage, traffic_split, machine_type, min_replica_count, max_replica_count, accelerator_type, accelerator_count, tpu_topology, reservation_affinity_type, reservation_affinity_key, reservation_affinity_values, service_account, explanation_spec, metadata, sync, deploy_request_timeout, autoscaling_target_cpu_utilization, autoscaling_target_accelerator_duty_cycle, spot, enable_access_logging, disable_container_logging, deployment_resource_pool, fast_tryout_enabled, system_labels, required_replica_count)\u001b[39m\n\u001b[32m   1579\u001b[39m \u001b[38;5;250m\u001b[39m\u001b[33;03m\"\"\"Deploys a Model to the Endpoint.\u001b[39;00m\n\u001b[32m   1580\u001b[39m \n\u001b[32m   1581\u001b[39m \u001b[33;03mArgs:\u001b[39;00m\n\u001b[32m   (...)\u001b[39m\u001b[32m   1694\u001b[39m \u001b[33;03m        rest of the replicas will be retried.\u001b[39;00m\n\u001b[32m   1695\u001b[39m \u001b[33;03m\"\"\"\u001b[39;00m\n\u001b[32m   1696\u001b[39m _LOGGER.log_action_start_against_resource(\n\u001b[32m   1697\u001b[39m     \u001b[33mf\u001b[39m\u001b[33m\"\u001b[39m\u001b[33mDeploying Model \u001b[39m\u001b[38;5;132;01m{\u001b[39;00mmodel.resource_name\u001b[38;5;132;01m}\u001b[39;00m\u001b[33m to\u001b[39m\u001b[33m\"\u001b[39m, \u001b[33m\"\u001b[39m\u001b[33m\"\u001b[39m, \u001b[38;5;28mself\u001b[39m\n\u001b[32m   1698\u001b[39m )\n\u001b[32m-> \u001b[39m\u001b[32m1700\u001b[39m \u001b[38;5;28;43mself\u001b[39;49m\u001b[43m.\u001b[49m\u001b[43m_deploy_call\u001b[49m\u001b[43m(\u001b[49m\n\u001b[32m   1701\u001b[39m \u001b[43m    \u001b[49m\u001b[43mapi_client\u001b[49m\u001b[43m=\u001b[49m\u001b[38;5;28;43mself\u001b[39;49m\u001b[43m.\u001b[49m\u001b[43mapi_client\u001b[49m\u001b[43m,\u001b[49m\n\u001b[32m   1702\u001b[39m \u001b[43m    \u001b[49m\u001b[43mendpoint_resource_name\u001b[49m\u001b[43m=\u001b[49m\u001b[38;5;28;43mself\u001b[39;49m\u001b[43m.\u001b[49m\u001b[43mresource_name\u001b[49m\u001b[43m,\u001b[49m\n\u001b[32m   1703\u001b[39m \u001b[43m    \u001b[49m\u001b[43mmodel\u001b[49m\u001b[43m=\u001b[49m\u001b[43mmodel\u001b[49m\u001b[43m,\u001b[49m\n\u001b[32m   1704\u001b[39m \u001b[43m    \u001b[49m\u001b[43mendpoint_resource_traffic_split\u001b[49m\u001b[43m=\u001b[49m\u001b[38;5;28;43mself\u001b[39;49m\u001b[43m.\u001b[49m\u001b[43m_gca_resource\u001b[49m\u001b[43m.\u001b[49m\u001b[43mtraffic_split\u001b[49m\u001b[43m,\u001b[49m\n\u001b[32m   1705\u001b[39m \u001b[43m    \u001b[49m\u001b[43mnetwork\u001b[49m\u001b[43m=\u001b[49m\u001b[38;5;28;43mself\u001b[39;49m\u001b[43m.\u001b[49m\u001b[43mnetwork\u001b[49m\u001b[43m,\u001b[49m\n\u001b[32m   1706\u001b[39m \u001b[43m    \u001b[49m\u001b[43mdeployed_model_display_name\u001b[49m\u001b[43m=\u001b[49m\u001b[43mdeployed_model_display_name\u001b[49m\u001b[43m,\u001b[49m\n\u001b[32m   1707\u001b[39m \u001b[43m    \u001b[49m\u001b[43mtraffic_percentage\u001b[49m\u001b[43m=\u001b[49m\u001b[43mtraffic_percentage\u001b[49m\u001b[43m,\u001b[49m\n\u001b[32m   1708\u001b[39m \u001b[43m    \u001b[49m\u001b[43mtraffic_split\u001b[49m\u001b[43m=\u001b[49m\u001b[43mtraffic_split\u001b[49m\u001b[43m,\u001b[49m\n\u001b[32m   1709\u001b[39m \u001b[43m    \u001b[49m\u001b[43mmachine_type\u001b[49m\u001b[43m=\u001b[49m\u001b[43mmachine_type\u001b[49m\u001b[43m,\u001b[49m\n\u001b[32m   1710\u001b[39m \u001b[43m    \u001b[49m\u001b[43mmin_replica_count\u001b[49m\u001b[43m=\u001b[49m\u001b[43mmin_replica_count\u001b[49m\u001b[43m,\u001b[49m\n\u001b[32m   1711\u001b[39m \u001b[43m    \u001b[49m\u001b[43mmax_replica_count\u001b[49m\u001b[43m=\u001b[49m\u001b[43mmax_replica_count\u001b[49m\u001b[43m,\u001b[49m\n\u001b[32m   1712\u001b[39m \u001b[43m    \u001b[49m\u001b[43maccelerator_type\u001b[49m\u001b[43m=\u001b[49m\u001b[43maccelerator_type\u001b[49m\u001b[43m,\u001b[49m\n\u001b[32m   1713\u001b[39m \u001b[43m    \u001b[49m\u001b[43maccelerator_count\u001b[49m\u001b[43m=\u001b[49m\u001b[43maccelerator_count\u001b[49m\u001b[43m,\u001b[49m\n\u001b[32m   1714\u001b[39m \u001b[43m    \u001b[49m\u001b[43mtpu_topology\u001b[49m\u001b[43m=\u001b[49m\u001b[43mtpu_topology\u001b[49m\u001b[43m,\u001b[49m\n\u001b[32m   1715\u001b[39m \u001b[43m    \u001b[49m\u001b[43mreservation_affinity_type\u001b[49m\u001b[43m=\u001b[49m\u001b[43mreservation_affinity_type\u001b[49m\u001b[43m,\u001b[49m\n\u001b[32m   1716\u001b[39m \u001b[43m    \u001b[49m\u001b[43mreservation_affinity_key\u001b[49m\u001b[43m=\u001b[49m\u001b[43mreservation_affinity_key\u001b[49m\u001b[43m,\u001b[49m\n\u001b[32m   1717\u001b[39m \u001b[43m    \u001b[49m\u001b[43mreservation_affinity_values\u001b[49m\u001b[43m=\u001b[49m\u001b[43mreservation_affinity_values\u001b[49m\u001b[43m,\u001b[49m\n\u001b[32m   1718\u001b[39m \u001b[43m    \u001b[49m\u001b[43mservice_account\u001b[49m\u001b[43m=\u001b[49m\u001b[43mservice_account\u001b[49m\u001b[43m,\u001b[49m\n\u001b[32m   1719\u001b[39m \u001b[43m    \u001b[49m\u001b[43mexplanation_spec\u001b[49m\u001b[43m=\u001b[49m\u001b[43mexplanation_spec\u001b[49m\u001b[43m,\u001b[49m\n\u001b[32m   1720\u001b[39m \u001b[43m    \u001b[49m\u001b[43mmetadata\u001b[49m\u001b[43m=\u001b[49m\u001b[43mmetadata\u001b[49m\u001b[43m,\u001b[49m\n\u001b[32m   1721\u001b[39m \u001b[43m    \u001b[49m\u001b[43mdeploy_request_timeout\u001b[49m\u001b[43m=\u001b[49m\u001b[43mdeploy_request_timeout\u001b[49m\u001b[43m,\u001b[49m\n\u001b[32m   1722\u001b[39m \u001b[43m    \u001b[49m\u001b[43mautoscaling_target_cpu_utilization\u001b[49m\u001b[43m=\u001b[49m\u001b[43mautoscaling_target_cpu_utilization\u001b[49m\u001b[43m,\u001b[49m\n\u001b[32m   1723\u001b[39m \u001b[43m    \u001b[49m\u001b[43mautoscaling_target_accelerator_duty_cycle\u001b[49m\u001b[43m=\u001b[49m\u001b[43mautoscaling_target_accelerator_duty_cycle\u001b[49m\u001b[43m,\u001b[49m\n\u001b[32m   1724\u001b[39m \u001b[43m    \u001b[49m\u001b[43mspot\u001b[49m\u001b[43m=\u001b[49m\u001b[43mspot\u001b[49m\u001b[43m,\u001b[49m\n\u001b[32m   1725\u001b[39m \u001b[43m    \u001b[49m\u001b[43menable_access_logging\u001b[49m\u001b[43m=\u001b[49m\u001b[43menable_access_logging\u001b[49m\u001b[43m,\u001b[49m\n\u001b[32m   1726\u001b[39m \u001b[43m    \u001b[49m\u001b[43mdisable_container_logging\u001b[49m\u001b[43m=\u001b[49m\u001b[43mdisable_container_logging\u001b[49m\u001b[43m,\u001b[49m\n\u001b[32m   1727\u001b[39m \u001b[43m    \u001b[49m\u001b[43mdeployment_resource_pool\u001b[49m\u001b[43m=\u001b[49m\u001b[43mdeployment_resource_pool\u001b[49m\u001b[43m,\u001b[49m\n\u001b[32m   1728\u001b[39m \u001b[43m    \u001b[49m\u001b[43mfast_tryout_enabled\u001b[49m\u001b[43m=\u001b[49m\u001b[43mfast_tryout_enabled\u001b[49m\u001b[43m,\u001b[49m\n\u001b[32m   1729\u001b[39m \u001b[43m    \u001b[49m\u001b[43msystem_labels\u001b[49m\u001b[43m=\u001b[49m\u001b[43msystem_labels\u001b[49m\u001b[43m,\u001b[49m\n\u001b[32m   1730\u001b[39m \u001b[43m    \u001b[49m\u001b[43mrequired_replica_count\u001b[49m\u001b[43m=\u001b[49m\u001b[43mrequired_replica_count\u001b[49m\u001b[43m,\u001b[49m\n\u001b[32m   1731\u001b[39m \u001b[43m\u001b[49m\u001b[43m)\u001b[49m\n\u001b[32m   1733\u001b[39m _LOGGER.log_action_completed_against_resource(\u001b[33m\"\u001b[39m\u001b[33mmodel\u001b[39m\u001b[33m\"\u001b[39m, \u001b[33m\"\u001b[39m\u001b[33mdeployed\u001b[39m\u001b[33m\"\u001b[39m, \u001b[38;5;28mself\u001b[39m)\n\u001b[32m   1735\u001b[39m \u001b[38;5;28mself\u001b[39m._sync_gca_resource()\n",
      "\u001b[36mFile \u001b[39m\u001b[32m~/model_evaluation/.venv/lib/python3.12/site-packages/google/cloud/aiplatform/models.py:2137\u001b[39m, in \u001b[36mEndpoint._deploy_call\u001b[39m\u001b[34m(cls, api_client, endpoint_resource_name, model, endpoint_resource_traffic_split, network, deployed_model_display_name, traffic_percentage, traffic_split, machine_type, min_replica_count, max_replica_count, accelerator_type, accelerator_count, tpu_topology, reservation_affinity_type, reservation_affinity_key, reservation_affinity_values, service_account, explanation_spec, metadata, deploy_request_timeout, autoscaling_target_cpu_utilization, autoscaling_target_accelerator_duty_cycle, autoscaling_target_request_count_per_minute, spot, enable_access_logging, disable_container_logging, deployment_resource_pool, fast_tryout_enabled, system_labels, required_replica_count)\u001b[39m\n\u001b[32m   2125\u001b[39m operation_future = api_client.deploy_model(\n\u001b[32m   2126\u001b[39m     endpoint=endpoint_resource_name,\n\u001b[32m   2127\u001b[39m     deployed_model=deployed_model,\n\u001b[32m   (...)\u001b[39m\u001b[32m   2130\u001b[39m     timeout=deploy_request_timeout,\n\u001b[32m   2131\u001b[39m )\n\u001b[32m   2133\u001b[39m _LOGGER.log_action_started_against_resource_with_lro(\n\u001b[32m   2134\u001b[39m     \u001b[33m\"\u001b[39m\u001b[33mDeploy\u001b[39m\u001b[33m\"\u001b[39m, \u001b[33m\"\u001b[39m\u001b[33mmodel\u001b[39m\u001b[33m\"\u001b[39m, \u001b[38;5;28mcls\u001b[39m, operation_future\n\u001b[32m   2135\u001b[39m )\n\u001b[32m-> \u001b[39m\u001b[32m2137\u001b[39m \u001b[43moperation_future\u001b[49m\u001b[43m.\u001b[49m\u001b[43mresult\u001b[49m\u001b[43m(\u001b[49m\u001b[43mtimeout\u001b[49m\u001b[43m=\u001b[49m\u001b[38;5;28;43;01mNone\u001b[39;49;00m\u001b[43m)\u001b[49m\n",
      "\u001b[36mFile \u001b[39m\u001b[32m~/model_evaluation/.venv/lib/python3.12/site-packages/google/api_core/future/polling.py:256\u001b[39m, in \u001b[36mPollingFuture.result\u001b[39m\u001b[34m(self, timeout, retry, polling)\u001b[39m\n\u001b[32m    144\u001b[39m \u001b[38;5;28;01mdef\u001b[39;00m\u001b[38;5;250m \u001b[39m\u001b[34mresult\u001b[39m(\u001b[38;5;28mself\u001b[39m, timeout=_DEFAULT_VALUE, retry=\u001b[38;5;28;01mNone\u001b[39;00m, polling=\u001b[38;5;28;01mNone\u001b[39;00m):\n\u001b[32m    145\u001b[39m \u001b[38;5;250m    \u001b[39m\u001b[33;03m\"\"\"Get the result of the operation.\u001b[39;00m\n\u001b[32m    146\u001b[39m \n\u001b[32m    147\u001b[39m \u001b[33;03m    This method will poll for operation status periodically, blocking if\u001b[39;00m\n\u001b[32m   (...)\u001b[39m\u001b[32m    253\u001b[39m \u001b[33;03m            the timeout is reached before the operation completes.\u001b[39;00m\n\u001b[32m    254\u001b[39m \u001b[33;03m    \"\"\"\u001b[39;00m\n\u001b[32m--> \u001b[39m\u001b[32m256\u001b[39m     \u001b[38;5;28;43mself\u001b[39;49m\u001b[43m.\u001b[49m\u001b[43m_blocking_poll\u001b[49m\u001b[43m(\u001b[49m\u001b[43mtimeout\u001b[49m\u001b[43m=\u001b[49m\u001b[43mtimeout\u001b[49m\u001b[43m,\u001b[49m\u001b[43m \u001b[49m\u001b[43mretry\u001b[49m\u001b[43m=\u001b[49m\u001b[43mretry\u001b[49m\u001b[43m,\u001b[49m\u001b[43m \u001b[49m\u001b[43mpolling\u001b[49m\u001b[43m=\u001b[49m\u001b[43mpolling\u001b[49m\u001b[43m)\u001b[49m\n\u001b[32m    258\u001b[39m     \u001b[38;5;28;01mif\u001b[39;00m \u001b[38;5;28mself\u001b[39m._exception \u001b[38;5;129;01mis\u001b[39;00m \u001b[38;5;129;01mnot\u001b[39;00m \u001b[38;5;28;01mNone\u001b[39;00m:\n\u001b[32m    259\u001b[39m         \u001b[38;5;66;03m# pylint: disable=raising-bad-type\u001b[39;00m\n\u001b[32m    260\u001b[39m         \u001b[38;5;66;03m# Pylint doesn't recognize that this is valid in this case.\u001b[39;00m\n\u001b[32m    261\u001b[39m         \u001b[38;5;28;01mraise\u001b[39;00m \u001b[38;5;28mself\u001b[39m._exception\n",
      "\u001b[36mFile \u001b[39m\u001b[32m~/model_evaluation/.venv/lib/python3.12/site-packages/google/api_core/future/polling.py:137\u001b[39m, in \u001b[36mPollingFuture._blocking_poll\u001b[39m\u001b[34m(self, timeout, retry, polling)\u001b[39m\n\u001b[32m    134\u001b[39m     polling = polling.with_timeout(timeout)\n\u001b[32m    136\u001b[39m \u001b[38;5;28;01mtry\u001b[39;00m:\n\u001b[32m--> \u001b[39m\u001b[32m137\u001b[39m     \u001b[43mpolling\u001b[49m\u001b[43m(\u001b[49m\u001b[38;5;28;43mself\u001b[39;49m\u001b[43m.\u001b[49m\u001b[43m_done_or_raise\u001b[49m\u001b[43m)\u001b[49m\u001b[43m(\u001b[49m\u001b[43mretry\u001b[49m\u001b[43m=\u001b[49m\u001b[43mretry\u001b[49m\u001b[43m)\u001b[49m\n\u001b[32m    138\u001b[39m \u001b[38;5;28;01mexcept\u001b[39;00m exceptions.RetryError:\n\u001b[32m    139\u001b[39m     \u001b[38;5;28;01mraise\u001b[39;00m concurrent.futures.TimeoutError(\n\u001b[32m    140\u001b[39m         \u001b[33mf\u001b[39m\u001b[33m\"\u001b[39m\u001b[33mOperation did not complete within the designated timeout of \u001b[39m\u001b[33m\"\u001b[39m\n\u001b[32m    141\u001b[39m         \u001b[33mf\u001b[39m\u001b[33m\"\u001b[39m\u001b[38;5;132;01m{\u001b[39;00mpolling.timeout\u001b[38;5;132;01m}\u001b[39;00m\u001b[33m seconds.\u001b[39m\u001b[33m\"\u001b[39m\n\u001b[32m    142\u001b[39m     )\n",
      "\u001b[36mFile \u001b[39m\u001b[32m~/model_evaluation/.venv/lib/python3.12/site-packages/google/api_core/retry/retry_unary.py:293\u001b[39m, in \u001b[36mRetry.__call__.<locals>.retry_wrapped_func\u001b[39m\u001b[34m(*args, **kwargs)\u001b[39m\n\u001b[32m    289\u001b[39m target = functools.partial(func, *args, **kwargs)\n\u001b[32m    290\u001b[39m sleep_generator = exponential_sleep_generator(\n\u001b[32m    291\u001b[39m     \u001b[38;5;28mself\u001b[39m._initial, \u001b[38;5;28mself\u001b[39m._maximum, multiplier=\u001b[38;5;28mself\u001b[39m._multiplier\n\u001b[32m    292\u001b[39m )\n\u001b[32m--> \u001b[39m\u001b[32m293\u001b[39m \u001b[38;5;28;01mreturn\u001b[39;00m \u001b[43mretry_target\u001b[49m\u001b[43m(\u001b[49m\n\u001b[32m    294\u001b[39m \u001b[43m    \u001b[49m\u001b[43mtarget\u001b[49m\u001b[43m,\u001b[49m\n\u001b[32m    295\u001b[39m \u001b[43m    \u001b[49m\u001b[38;5;28;43mself\u001b[39;49m\u001b[43m.\u001b[49m\u001b[43m_predicate\u001b[49m\u001b[43m,\u001b[49m\n\u001b[32m    296\u001b[39m \u001b[43m    \u001b[49m\u001b[43msleep_generator\u001b[49m\u001b[43m,\u001b[49m\n\u001b[32m    297\u001b[39m \u001b[43m    \u001b[49m\u001b[43mtimeout\u001b[49m\u001b[43m=\u001b[49m\u001b[38;5;28;43mself\u001b[39;49m\u001b[43m.\u001b[49m\u001b[43m_timeout\u001b[49m\u001b[43m,\u001b[49m\n\u001b[32m    298\u001b[39m \u001b[43m    \u001b[49m\u001b[43mon_error\u001b[49m\u001b[43m=\u001b[49m\u001b[43mon_error\u001b[49m\u001b[43m,\u001b[49m\n\u001b[32m    299\u001b[39m \u001b[43m\u001b[49m\u001b[43m)\u001b[49m\n",
      "\u001b[36mFile \u001b[39m\u001b[32m~/model_evaluation/.venv/lib/python3.12/site-packages/google/api_core/retry/retry_unary.py:164\u001b[39m, in \u001b[36mretry_target\u001b[39m\u001b[34m(target, predicate, sleep_generator, timeout, on_error, exception_factory, **kwargs)\u001b[39m\n\u001b[32m    153\u001b[39m         _retry_error_helper(\n\u001b[32m    154\u001b[39m             exc,\n\u001b[32m    155\u001b[39m             deadline,\n\u001b[32m   (...)\u001b[39m\u001b[32m    161\u001b[39m             timeout,\n\u001b[32m    162\u001b[39m         )\n\u001b[32m    163\u001b[39m         \u001b[38;5;66;03m# if exception not raised, sleep before next attempt\u001b[39;00m\n\u001b[32m--> \u001b[39m\u001b[32m164\u001b[39m         \u001b[43mtime\u001b[49m\u001b[43m.\u001b[49m\u001b[43msleep\u001b[49m\u001b[43m(\u001b[49m\u001b[43msleep\u001b[49m\u001b[43m)\u001b[49m\n\u001b[32m    166\u001b[39m \u001b[38;5;28;01mraise\u001b[39;00m \u001b[38;5;167;01mValueError\u001b[39;00m(\u001b[33m\"\u001b[39m\u001b[33mSleep generator stopped yielding sleep values.\u001b[39m\u001b[33m\"\u001b[39m)\n",
      "\u001b[31mKeyboardInterrupt\u001b[39m: "
     ]
    }
   ],
   "source": [
    "endpoint_uri = 'https://us-central1-aiplatform.googleapis.com/v1/projects/679926387543/locations/us-central1/endpoints/2591835879202881536'\n",
    "\n",
    "create_endpoint_with_reservation_local(endpoint_uri=endpoint_uri,\n",
    "    model=pipeline_params['model'],\n",
    "    deployed_name=pipeline_params['deployed_model_display_name'],\n",
    "    machine_type=pipeline_params['machine_type'],\n",
    "    accelerator_type=pipeline_params['accelerator_type'],\n",
    "    accelerator_count=1,\n",
    "    reservation_zone=pipeline_params['zone'],\n",
    "    project_id=pipeline_params['project_id'],\n",
    "    reservation_name=pipeline_params['reservation_name'],\n",
    "    min_replica=1,\n",
    "    max_replica=2,\n",
    "    location=pipeline_params['region'],\n",
    "    SA='vertex-sa@wortz-project-352116.iam.gserviceaccount.com')"
   ]
  },
  {
   "cell_type": "markdown",
   "id": "ae13c4f0",
   "metadata": {},
   "source": [
    "### Try the rest method\n",
    "https://cloud.google.com/vertex-ai/docs/predictions/use-reservations#deploy_model_reservation-drest"
   ]
  },
  {
   "cell_type": "code",
   "execution_count": 6,
   "id": "57467aed",
   "metadata": {},
   "outputs": [],
   "source": [
    "### Try the rest method \n",
    "# https://cloud.google.com/vertex-ai/docs/predictions/use-reservations#deploy_model_reservation-drest\n",
    "\n",
    "import requests\n",
    "import json\n",
    "\n",
    "\n",
    "def call_post_api(api_url: str, payload: str, token: str):\n",
    "    \"\"\"\n",
    "    Calls a POST REST API with the given URL and payload.\n",
    "\n",
    "    Args:\n",
    "        api_url (str): The URL of the API endpoint.\n",
    "        payload (dict): A dictionary representing the JSON payload to send.\n",
    "        token (str, optional): The access token for the REST call\n",
    "\n",
    "    Returns:\n",
    "        dict or None: The JSON response from the API as a dictionary if successful,\n",
    "                      or None if an error occurred.\n",
    "    \"\"\"\n",
    "    if token is None:\n",
    "        headers = {\"Content-Type\": \"application/json\"}\n",
    "    else:\n",
    "        # Ensure Content-Type is set, default to application/json if not present\n",
    "        headers = {\n",
    "            \"Content-Type\": \"application/json\",\n",
    "            \"Authorization\": f\"Bearer {token}\",\n",
    "        }\n",
    "\n",
    "    try:\n",
    "        # Convert the payload dictionary to a JSON string\n",
    "        json_payload = json.dumps(payload)\n",
    "\n",
    "        # Make the POST request\n",
    "        response = requests.post(\n",
    "            api_url, data=json_payload, headers=headers, timeout=10\n",
    "        )  # 10-second timeout\n",
    "\n",
    "        # Raise an exception for bad status codes (4xx or 5xx)\n",
    "        response.raise_for_status()\n",
    "\n",
    "        # Assuming the response is JSON, parse it\n",
    "        return response.json()\n",
    "\n",
    "    except requests.exceptions.HTTPError as http_err:\n",
    "        print(f\"HTTP error occurred: {http_err}\")\n",
    "        print(f\"Response content: {response.content}\")\n",
    "    except requests.exceptions.ConnectionError as conn_err:\n",
    "        print(f\"Connection error occurred: {conn_err}\")\n",
    "    except requests.exceptions.Timeout as timeout_err:\n",
    "        print(f\"Timeout error occurred: {timeout_err}\")\n",
    "    except requests.exceptions.RequestException as req_err:\n",
    "        print(f\"An unexpected error occurred with the request: {req_err}\")\n",
    "    except json.JSONDecodeError:\n",
    "        print(\"Error decoding JSON response. Response was not valid JSON.\")\n",
    "        print(\n",
    "            f\"Response content: {response.text}\"\n",
    "        )  # Show raw text if JSON parsing fails\n",
    "\n",
    "    return None"
   ]
  },
  {
   "cell_type": "code",
   "execution_count": 7,
   "id": "bff366ff",
   "metadata": {},
   "outputs": [],
   "source": [
    "def deploy_reserved_model_rest_api(\n",
    "    token: str,\n",
    "    endpoint_id=\"2591835879202881536\",\n",
    "    model=pipeline_params[\"model\"],\n",
    "    deployed_name=pipeline_params[\"deployed_model_display_name\"],\n",
    "    machine_type=pipeline_params[\"machine_type\"],\n",
    "    accelerator_type=pipeline_params[\"accelerator_type\"],\n",
    "    accelerator_count=1,\n",
    "    reservation_zone=pipeline_params[\"zone\"],\n",
    "    project_id=pipeline_params[\"project_id\"],\n",
    "    reservation_name=pipeline_params[\"reservation_name\"],\n",
    "    min_replica=1,\n",
    "    max_replica=2,\n",
    "    location=pipeline_params[\"region\"],\n",
    "):\n",
    "    url = f\"https://{location}-aiplatform.googleapis.com/v1/projects/{project_id}/locations/{location}/endpoints/{endpoint_id}:deployModel\"\n",
    "    request_body = {\n",
    "        \"deployedModel\": {\n",
    "            \"model\": f\"projects/{project_id}/locations/{location}/models/{model}\",\n",
    "            \"displayName\": deployed_name,\n",
    "            \"dedicatedResources\": {\n",
    "                \"machineSpec\": {\n",
    "                    \"machineType\": machine_type,\n",
    "                    \"acceleratorType\": accelerator_type,\n",
    "                    \"acceleratorCount\": accelerator_count,\n",
    "                    \"reservationAffinity\": {\n",
    "                        \"reservationAffinityType\": \"SPECIFIC_RESERVATION\",\n",
    "                        \"key\": \"compute.googleapis.com/reservation-name\",\n",
    "                        \"values\": [\n",
    "                            f\"projects/{project_id}/zones/{reservation_zone}/reservations/{reservation_name}\"\n",
    "                        ],\n",
    "                    },\n",
    "                },\n",
    "                \"minReplicaCount\": min_replica,\n",
    "                \"maxReplicaCount\": max_replica,\n",
    "            },\n",
    "        },\n",
    "        \"trafficSplit\": {\n",
    "          \"0\": 100,\n",
    "        },\n",
    "    }\n",
    "    print(url, '\\n',  json.dumps(request_body))\n",
    "    return call_post_api(api_url=url, payload=request_body, token=token)"
   ]
  },
  {
   "cell_type": "code",
   "execution_count": 8,
   "id": "31f3860d",
   "metadata": {},
   "outputs": [
    {
     "name": "stdout",
     "output_type": "stream",
     "text": [
      "https://us-central1-aiplatform.googleapis.com/v1/projects/wortz-project-352116/locations/us-central1/endpoints/2591835879202881536:deployModel \n",
      " {\"deployedModel\": {\"model\": \"projects/wortz-project-352116/locations/us-central1/models/3416616934593003520\", \"displayName\": \"My_deployed_model\", \"dedicatedResources\": {\"machineSpec\": {\"machineType\": \"a2-highgpu-1g\", \"acceleratorType\": \"NVIDIA_TESLA_A100\", \"acceleratorCount\": 1, \"reservationAffinity\": {\"reservationAffinityType\": \"SPECIFIC_RESERVATION\", \"key\": \"compute.googleapis.com/reservation-name\", \"values\": [\"projects/wortz-project-352116/zones/us-central1-b/reservations/a100-custom-image-reservation\"]}}, \"minReplicaCount\": 1, \"maxReplicaCount\": 2}}, \"trafficSplit\": {\"0\": 100}}\n"
     ]
    },
    {
     "data": {
      "text/plain": [
       "{'name': 'projects/679926387543/locations/us-central1/endpoints/2591835879202881536/operations/3729303026326831104',\n",
       " 'metadata': {'@type': 'type.googleapis.com/google.cloud.aiplatform.v1.DeployModelOperationMetadata',\n",
       "  'genericMetadata': {'createTime': '2025-06-02T20:10:47.248469Z',\n",
       "   'updateTime': '2025-06-02T20:10:47.248469Z'}}}"
      ]
     },
     "execution_count": 8,
     "metadata": {},
     "output_type": "execute_result"
    }
   ],
   "source": [
    "token = ! gcloud auth print-access-token\n",
    "deploy_reserved_model_rest_api(token[0])"
   ]
  },
  {
   "cell_type": "markdown",
   "id": "a5984fc4",
   "metadata": {},
   "source": [
    "#### Validate the operation from the REST call"
   ]
  },
  {
   "cell_type": "code",
   "execution_count": 9,
   "id": "0b8ac0f0",
   "metadata": {},
   "outputs": [
    {
     "name": "stdout",
     "output_type": "stream",
     "text": [
      "{\n",
      "  \"name\": \"projects/679926387543/locations/us-central1/endpoints/2591835879202881536/operations/3729303026326831104\",\n",
      "  \"metadata\": {\n",
      "    \"@type\": \"type.googleapis.com/google.cloud.aiplatform.v1.DeployModelOperationMetadata\",\n",
      "    \"genericMetadata\": {\n",
      "      \"createTime\": \"2025-06-02T20:10:47.248469Z\",\n",
      "      \"updateTime\": \"2025-06-02T20:10:48.653532Z\"\n",
      "    }\n",
      "  },\n",
      "  \"done\": true,\n",
      "  \"error\": {\n",
      "    \"code\": 7,\n",
      "    \"message\": \"Permission denied getting reservation [projects/wortz-project-352116/zones/us-central1-b/reservations/a100-custom-image-reservation]\"\n",
      "  }\n",
      "}\n"
     ]
    }
   ],
   "source": [
    "### Get the operation status\n",
    "OP_ID = '3729303026326831104'\n",
    "! curl -X GET \\\n",
    "  -H \"Authorization: Bearer $(gcloud auth print-access-token)\" \\\n",
    "    \"https://us-central1-aiplatform.googleapis.com/v1/projects/wortz-project-352116/locations/us-central1/operations/$OP_ID\""
   ]
  },
  {
   "cell_type": "code",
   "execution_count": null,
   "id": "4087ef96",
   "metadata": {},
   "outputs": [],
   "source": []
  }
 ],
 "metadata": {
  "kernelspec": {
   "display_name": ".venv",
   "language": "python",
   "name": "python3"
  },
  "language_info": {
   "codemirror_mode": {
    "name": "ipython",
    "version": 3
   },
   "file_extension": ".py",
   "mimetype": "text/x-python",
   "name": "python",
   "nbconvert_exporter": "python",
   "pygments_lexer": "ipython3",
   "version": "3.12.2"
  }
 },
 "nbformat": 4,
 "nbformat_minor": 5
}
